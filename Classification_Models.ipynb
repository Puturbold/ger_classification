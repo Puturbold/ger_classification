{
  "nbformat": 4,
  "nbformat_minor": 0,
  "metadata": {
    "colab": {
      "name": "Classification Models.ipynb",
      "provenance": [],
      "mount_file_id": "1Qe6jM3q-Vk809-imZO8EsGnTzoPyO7kA",
      "authorship_tag": "ABX9TyN8BqsNonHQuMw3lyi5KsDv",
      "include_colab_link": true
    },
    "kernelspec": {
      "name": "python3",
      "display_name": "Python 3"
    },
    "language_info": {
      "name": "python"
    }
  },
  "cells": [
    {
      "cell_type": "markdown",
      "metadata": {
        "id": "view-in-github",
        "colab_type": "text"
      },
      "source": [
        "<a href=\"https://colab.research.google.com/github/rohanskalyani/ger_classification/blob/main/Classification_Models.ipynb\" target=\"_parent\"><img src=\"https://colab.research.google.com/assets/colab-badge.svg\" alt=\"Open In Colab\"/></a>"
      ]
    },
    {
      "cell_type": "code",
      "execution_count": 1,
      "metadata": {
        "id": "bUH0t40QEdpl"
      },
      "outputs": [],
      "source": [
        "import pandas as pd\n",
        "import matplotlib.pyplot as plt\n",
        "from sklearn.ensemble import RandomForestClassifier\n",
        "from sklearn.linear_model import LogisticRegressionCV\n",
        "from sklearn.naive_bayes import GaussianNB\n",
        "from sklearn.svm import LinearSVC\n",
        "from sklearn.metrics import accuracy_score, roc_auc_score, f1_score\n",
        "from sklearn.model_selection import train_test_split\n",
        "from sklearn.tree import DecisionTreeClassifier, plot_tree"
      ]
    },
    {
      "cell_type": "markdown",
      "source": [
        "### Initial Testing"
      ],
      "metadata": {
        "id": "dzKTKsbxSboa"
      }
    },
    {
      "cell_type": "code",
      "source": [
        "ger_dim_shp = pd.read_csv('https://raw.githubusercontent.com/rohanskalyani/ger_classification/main/yurt_dimension_shape.csv', header = 0, index_col = 0)\n",
        "ger_dim_shp.head()"
      ],
      "metadata": {
        "colab": {
          "base_uri": "https://localhost:8080/",
          "height": 357
        },
        "id": "BIIaqIGfV5P1",
        "outputId": "5452c354-4c0b-4d13-adf5-6ee430336675"
      },
      "execution_count": null,
      "outputs": [
        {
          "output_type": "execute_result",
          "data": {
            "text/plain": [
              "        duureg         area  yurt  circ_compact      new_area  squareness  \\\n",
              "0  Bagakhangai  2021.889360     0      0.532362  2.407880e-07         NaN   \n",
              "1  Bagakhangai  1811.358912     0      0.502535  2.157171e-07         NaN   \n",
              "2  Bagakhangai  1760.263359     0      0.473111  2.096347e-07         NaN   \n",
              "3  Bagakhangai  2288.734374     0      0.465759  2.725703e-07         NaN   \n",
              "4  Bagakhangai   377.006317     0      0.306372  4.488263e-08         NaN   \n",
              "\n",
              "   convexity  elongation  perimeter  EquivalentRectangularIndex   fractal  \\\n",
              "0        1.0    0.834025   0.001978                91283.441782 -1.999982   \n",
              "1        1.0    0.766171   0.001884                91166.322565 -2.042350   \n",
              "2        1.0    0.514535   0.001917                92419.530310 -2.045511   \n",
              "3        1.0    0.481073   0.002212                92375.154082 -1.939112   \n",
              "4        1.0    0.290512   0.001000                92937.052597 -2.796100   \n",
              "\n",
              "   longest_axis_length  \n",
              "0             0.000759  \n",
              "1             0.000739  \n",
              "2             0.000751  \n",
              "3             0.000863  \n",
              "4             0.000432  "
            ],
            "text/html": [
              "\n",
              "  <div id=\"df-7679cd5f-4613-4356-92c9-b3e9fb34ba78\">\n",
              "    <div class=\"colab-df-container\">\n",
              "      <div>\n",
              "<style scoped>\n",
              "    .dataframe tbody tr th:only-of-type {\n",
              "        vertical-align: middle;\n",
              "    }\n",
              "\n",
              "    .dataframe tbody tr th {\n",
              "        vertical-align: top;\n",
              "    }\n",
              "\n",
              "    .dataframe thead th {\n",
              "        text-align: right;\n",
              "    }\n",
              "</style>\n",
              "<table border=\"1\" class=\"dataframe\">\n",
              "  <thead>\n",
              "    <tr style=\"text-align: right;\">\n",
              "      <th></th>\n",
              "      <th>duureg</th>\n",
              "      <th>area</th>\n",
              "      <th>yurt</th>\n",
              "      <th>circ_compact</th>\n",
              "      <th>new_area</th>\n",
              "      <th>squareness</th>\n",
              "      <th>convexity</th>\n",
              "      <th>elongation</th>\n",
              "      <th>perimeter</th>\n",
              "      <th>EquivalentRectangularIndex</th>\n",
              "      <th>fractal</th>\n",
              "      <th>longest_axis_length</th>\n",
              "    </tr>\n",
              "  </thead>\n",
              "  <tbody>\n",
              "    <tr>\n",
              "      <th>0</th>\n",
              "      <td>Bagakhangai</td>\n",
              "      <td>2021.889360</td>\n",
              "      <td>0</td>\n",
              "      <td>0.532362</td>\n",
              "      <td>2.407880e-07</td>\n",
              "      <td>NaN</td>\n",
              "      <td>1.0</td>\n",
              "      <td>0.834025</td>\n",
              "      <td>0.001978</td>\n",
              "      <td>91283.441782</td>\n",
              "      <td>-1.999982</td>\n",
              "      <td>0.000759</td>\n",
              "    </tr>\n",
              "    <tr>\n",
              "      <th>1</th>\n",
              "      <td>Bagakhangai</td>\n",
              "      <td>1811.358912</td>\n",
              "      <td>0</td>\n",
              "      <td>0.502535</td>\n",
              "      <td>2.157171e-07</td>\n",
              "      <td>NaN</td>\n",
              "      <td>1.0</td>\n",
              "      <td>0.766171</td>\n",
              "      <td>0.001884</td>\n",
              "      <td>91166.322565</td>\n",
              "      <td>-2.042350</td>\n",
              "      <td>0.000739</td>\n",
              "    </tr>\n",
              "    <tr>\n",
              "      <th>2</th>\n",
              "      <td>Bagakhangai</td>\n",
              "      <td>1760.263359</td>\n",
              "      <td>0</td>\n",
              "      <td>0.473111</td>\n",
              "      <td>2.096347e-07</td>\n",
              "      <td>NaN</td>\n",
              "      <td>1.0</td>\n",
              "      <td>0.514535</td>\n",
              "      <td>0.001917</td>\n",
              "      <td>92419.530310</td>\n",
              "      <td>-2.045511</td>\n",
              "      <td>0.000751</td>\n",
              "    </tr>\n",
              "    <tr>\n",
              "      <th>3</th>\n",
              "      <td>Bagakhangai</td>\n",
              "      <td>2288.734374</td>\n",
              "      <td>0</td>\n",
              "      <td>0.465759</td>\n",
              "      <td>2.725703e-07</td>\n",
              "      <td>NaN</td>\n",
              "      <td>1.0</td>\n",
              "      <td>0.481073</td>\n",
              "      <td>0.002212</td>\n",
              "      <td>92375.154082</td>\n",
              "      <td>-1.939112</td>\n",
              "      <td>0.000863</td>\n",
              "    </tr>\n",
              "    <tr>\n",
              "      <th>4</th>\n",
              "      <td>Bagakhangai</td>\n",
              "      <td>377.006317</td>\n",
              "      <td>0</td>\n",
              "      <td>0.306372</td>\n",
              "      <td>4.488263e-08</td>\n",
              "      <td>NaN</td>\n",
              "      <td>1.0</td>\n",
              "      <td>0.290512</td>\n",
              "      <td>0.001000</td>\n",
              "      <td>92937.052597</td>\n",
              "      <td>-2.796100</td>\n",
              "      <td>0.000432</td>\n",
              "    </tr>\n",
              "  </tbody>\n",
              "</table>\n",
              "</div>\n",
              "      <button class=\"colab-df-convert\" onclick=\"convertToInteractive('df-7679cd5f-4613-4356-92c9-b3e9fb34ba78')\"\n",
              "              title=\"Convert this dataframe to an interactive table.\"\n",
              "              style=\"display:none;\">\n",
              "        \n",
              "  <svg xmlns=\"http://www.w3.org/2000/svg\" height=\"24px\"viewBox=\"0 0 24 24\"\n",
              "       width=\"24px\">\n",
              "    <path d=\"M0 0h24v24H0V0z\" fill=\"none\"/>\n",
              "    <path d=\"M18.56 5.44l.94 2.06.94-2.06 2.06-.94-2.06-.94-.94-2.06-.94 2.06-2.06.94zm-11 1L8.5 8.5l.94-2.06 2.06-.94-2.06-.94L8.5 2.5l-.94 2.06-2.06.94zm10 10l.94 2.06.94-2.06 2.06-.94-2.06-.94-.94-2.06-.94 2.06-2.06.94z\"/><path d=\"M17.41 7.96l-1.37-1.37c-.4-.4-.92-.59-1.43-.59-.52 0-1.04.2-1.43.59L10.3 9.45l-7.72 7.72c-.78.78-.78 2.05 0 2.83L4 21.41c.39.39.9.59 1.41.59.51 0 1.02-.2 1.41-.59l7.78-7.78 2.81-2.81c.8-.78.8-2.07 0-2.86zM5.41 20L4 18.59l7.72-7.72 1.47 1.35L5.41 20z\"/>\n",
              "  </svg>\n",
              "      </button>\n",
              "      \n",
              "  <style>\n",
              "    .colab-df-container {\n",
              "      display:flex;\n",
              "      flex-wrap:wrap;\n",
              "      gap: 12px;\n",
              "    }\n",
              "\n",
              "    .colab-df-convert {\n",
              "      background-color: #E8F0FE;\n",
              "      border: none;\n",
              "      border-radius: 50%;\n",
              "      cursor: pointer;\n",
              "      display: none;\n",
              "      fill: #1967D2;\n",
              "      height: 32px;\n",
              "      padding: 0 0 0 0;\n",
              "      width: 32px;\n",
              "    }\n",
              "\n",
              "    .colab-df-convert:hover {\n",
              "      background-color: #E2EBFA;\n",
              "      box-shadow: 0px 1px 2px rgba(60, 64, 67, 0.3), 0px 1px 3px 1px rgba(60, 64, 67, 0.15);\n",
              "      fill: #174EA6;\n",
              "    }\n",
              "\n",
              "    [theme=dark] .colab-df-convert {\n",
              "      background-color: #3B4455;\n",
              "      fill: #D2E3FC;\n",
              "    }\n",
              "\n",
              "    [theme=dark] .colab-df-convert:hover {\n",
              "      background-color: #434B5C;\n",
              "      box-shadow: 0px 1px 3px 1px rgba(0, 0, 0, 0.15);\n",
              "      filter: drop-shadow(0px 1px 2px rgba(0, 0, 0, 0.3));\n",
              "      fill: #FFFFFF;\n",
              "    }\n",
              "  </style>\n",
              "\n",
              "      <script>\n",
              "        const buttonEl =\n",
              "          document.querySelector('#df-7679cd5f-4613-4356-92c9-b3e9fb34ba78 button.colab-df-convert');\n",
              "        buttonEl.style.display =\n",
              "          google.colab.kernel.accessAllowed ? 'block' : 'none';\n",
              "\n",
              "        async function convertToInteractive(key) {\n",
              "          const element = document.querySelector('#df-7679cd5f-4613-4356-92c9-b3e9fb34ba78');\n",
              "          const dataTable =\n",
              "            await google.colab.kernel.invokeFunction('convertToInteractive',\n",
              "                                                     [key], {});\n",
              "          if (!dataTable) return;\n",
              "\n",
              "          const docLinkHtml = 'Like what you see? Visit the ' +\n",
              "            '<a target=\"_blank\" href=https://colab.research.google.com/notebooks/data_table.ipynb>data table notebook</a>'\n",
              "            + ' to learn more about interactive tables.';\n",
              "          element.innerHTML = '';\n",
              "          dataTable['output_type'] = 'display_data';\n",
              "          await google.colab.output.renderOutput(dataTable, element);\n",
              "          const docLink = document.createElement('div');\n",
              "          docLink.innerHTML = docLinkHtml;\n",
              "          element.appendChild(docLink);\n",
              "        }\n",
              "      </script>\n",
              "    </div>\n",
              "  </div>\n",
              "  "
            ]
          },
          "metadata": {},
          "execution_count": 61
        }
      ]
    },
    {
      "cell_type": "code",
      "source": [
        "ger_dim_shp.describe()"
      ],
      "metadata": {
        "colab": {
          "base_uri": "https://localhost:8080/",
          "height": 364
        },
        "id": "OdLlCuKbd1YP",
        "outputId": "e2d2e36f-ca3b-4134-959f-263984a8de9b"
      },
      "execution_count": null,
      "outputs": [
        {
          "output_type": "execute_result",
          "data": {
            "text/plain": [
              "                area           yurt   circ_compact      new_area  squareness  \\\n",
              "count  255262.000000  255262.000000  255262.000000  2.552620e+05         0.0   \n",
              "mean      126.448090       0.141047       0.538727  3.579766e+00         NaN   \n",
              "std       430.467957       0.348071       0.202438  9.862607e+00         NaN   \n",
              "min         1.043309       0.000000       0.024920  3.594485e-09         NaN   \n",
              "25%        36.916493       0.000000       0.413941  6.089633e-09         NaN   \n",
              "50%        62.549880       0.000000       0.481279  9.669225e-09         NaN   \n",
              "75%       100.584544       0.000000       0.605750  2.157574e-08         NaN   \n",
              "max     47895.996377       1.000000       0.985859  1.136112e+03         NaN   \n",
              "\n",
              "           convexity     elongation      perimeter  \\\n",
              "count  255262.000000  255262.000000  255262.000000   \n",
              "mean        0.982787       0.620112       2.507336   \n",
              "std         0.047691       0.217951       6.289422   \n",
              "min         0.184503       0.022024       0.000220   \n",
              "25%         1.000000       0.463015       0.000333   \n",
              "50%         1.000000       0.608126       0.000424   \n",
              "75%         1.000000       0.736866       0.000658   \n",
              "max         1.000000       1.000000     187.530152   \n",
              "\n",
              "       EquivalentRectangularIndex        fractal  longest_axis_length  \n",
              "count               255262.000000  255262.000000        255262.000000  \n",
              "mean                 77750.033884      -3.563067             0.805333  \n",
              "std                  31970.842767       1.979765             2.023480  \n",
              "min                      0.768860      -5.767932             0.000079  \n",
              "25%                  85065.566349      -4.788469             0.000130  \n",
              "50%                  91203.744168      -4.173209             0.000166  \n",
              "75%                  91767.494930      -3.360820             0.000258  \n",
              "max                 102050.155079       1.130901            66.202638  "
            ],
            "text/html": [
              "\n",
              "  <div id=\"df-b3c4d1cc-4344-4a55-b62c-411ba853ffc4\">\n",
              "    <div class=\"colab-df-container\">\n",
              "      <div>\n",
              "<style scoped>\n",
              "    .dataframe tbody tr th:only-of-type {\n",
              "        vertical-align: middle;\n",
              "    }\n",
              "\n",
              "    .dataframe tbody tr th {\n",
              "        vertical-align: top;\n",
              "    }\n",
              "\n",
              "    .dataframe thead th {\n",
              "        text-align: right;\n",
              "    }\n",
              "</style>\n",
              "<table border=\"1\" class=\"dataframe\">\n",
              "  <thead>\n",
              "    <tr style=\"text-align: right;\">\n",
              "      <th></th>\n",
              "      <th>area</th>\n",
              "      <th>yurt</th>\n",
              "      <th>circ_compact</th>\n",
              "      <th>new_area</th>\n",
              "      <th>squareness</th>\n",
              "      <th>convexity</th>\n",
              "      <th>elongation</th>\n",
              "      <th>perimeter</th>\n",
              "      <th>EquivalentRectangularIndex</th>\n",
              "      <th>fractal</th>\n",
              "      <th>longest_axis_length</th>\n",
              "    </tr>\n",
              "  </thead>\n",
              "  <tbody>\n",
              "    <tr>\n",
              "      <th>count</th>\n",
              "      <td>255262.000000</td>\n",
              "      <td>255262.000000</td>\n",
              "      <td>255262.000000</td>\n",
              "      <td>2.552620e+05</td>\n",
              "      <td>0.0</td>\n",
              "      <td>255262.000000</td>\n",
              "      <td>255262.000000</td>\n",
              "      <td>255262.000000</td>\n",
              "      <td>255262.000000</td>\n",
              "      <td>255262.000000</td>\n",
              "      <td>255262.000000</td>\n",
              "    </tr>\n",
              "    <tr>\n",
              "      <th>mean</th>\n",
              "      <td>126.448090</td>\n",
              "      <td>0.141047</td>\n",
              "      <td>0.538727</td>\n",
              "      <td>3.579766e+00</td>\n",
              "      <td>NaN</td>\n",
              "      <td>0.982787</td>\n",
              "      <td>0.620112</td>\n",
              "      <td>2.507336</td>\n",
              "      <td>77750.033884</td>\n",
              "      <td>-3.563067</td>\n",
              "      <td>0.805333</td>\n",
              "    </tr>\n",
              "    <tr>\n",
              "      <th>std</th>\n",
              "      <td>430.467957</td>\n",
              "      <td>0.348071</td>\n",
              "      <td>0.202438</td>\n",
              "      <td>9.862607e+00</td>\n",
              "      <td>NaN</td>\n",
              "      <td>0.047691</td>\n",
              "      <td>0.217951</td>\n",
              "      <td>6.289422</td>\n",
              "      <td>31970.842767</td>\n",
              "      <td>1.979765</td>\n",
              "      <td>2.023480</td>\n",
              "    </tr>\n",
              "    <tr>\n",
              "      <th>min</th>\n",
              "      <td>1.043309</td>\n",
              "      <td>0.000000</td>\n",
              "      <td>0.024920</td>\n",
              "      <td>3.594485e-09</td>\n",
              "      <td>NaN</td>\n",
              "      <td>0.184503</td>\n",
              "      <td>0.022024</td>\n",
              "      <td>0.000220</td>\n",
              "      <td>0.768860</td>\n",
              "      <td>-5.767932</td>\n",
              "      <td>0.000079</td>\n",
              "    </tr>\n",
              "    <tr>\n",
              "      <th>25%</th>\n",
              "      <td>36.916493</td>\n",
              "      <td>0.000000</td>\n",
              "      <td>0.413941</td>\n",
              "      <td>6.089633e-09</td>\n",
              "      <td>NaN</td>\n",
              "      <td>1.000000</td>\n",
              "      <td>0.463015</td>\n",
              "      <td>0.000333</td>\n",
              "      <td>85065.566349</td>\n",
              "      <td>-4.788469</td>\n",
              "      <td>0.000130</td>\n",
              "    </tr>\n",
              "    <tr>\n",
              "      <th>50%</th>\n",
              "      <td>62.549880</td>\n",
              "      <td>0.000000</td>\n",
              "      <td>0.481279</td>\n",
              "      <td>9.669225e-09</td>\n",
              "      <td>NaN</td>\n",
              "      <td>1.000000</td>\n",
              "      <td>0.608126</td>\n",
              "      <td>0.000424</td>\n",
              "      <td>91203.744168</td>\n",
              "      <td>-4.173209</td>\n",
              "      <td>0.000166</td>\n",
              "    </tr>\n",
              "    <tr>\n",
              "      <th>75%</th>\n",
              "      <td>100.584544</td>\n",
              "      <td>0.000000</td>\n",
              "      <td>0.605750</td>\n",
              "      <td>2.157574e-08</td>\n",
              "      <td>NaN</td>\n",
              "      <td>1.000000</td>\n",
              "      <td>0.736866</td>\n",
              "      <td>0.000658</td>\n",
              "      <td>91767.494930</td>\n",
              "      <td>-3.360820</td>\n",
              "      <td>0.000258</td>\n",
              "    </tr>\n",
              "    <tr>\n",
              "      <th>max</th>\n",
              "      <td>47895.996377</td>\n",
              "      <td>1.000000</td>\n",
              "      <td>0.985859</td>\n",
              "      <td>1.136112e+03</td>\n",
              "      <td>NaN</td>\n",
              "      <td>1.000000</td>\n",
              "      <td>1.000000</td>\n",
              "      <td>187.530152</td>\n",
              "      <td>102050.155079</td>\n",
              "      <td>1.130901</td>\n",
              "      <td>66.202638</td>\n",
              "    </tr>\n",
              "  </tbody>\n",
              "</table>\n",
              "</div>\n",
              "      <button class=\"colab-df-convert\" onclick=\"convertToInteractive('df-b3c4d1cc-4344-4a55-b62c-411ba853ffc4')\"\n",
              "              title=\"Convert this dataframe to an interactive table.\"\n",
              "              style=\"display:none;\">\n",
              "        \n",
              "  <svg xmlns=\"http://www.w3.org/2000/svg\" height=\"24px\"viewBox=\"0 0 24 24\"\n",
              "       width=\"24px\">\n",
              "    <path d=\"M0 0h24v24H0V0z\" fill=\"none\"/>\n",
              "    <path d=\"M18.56 5.44l.94 2.06.94-2.06 2.06-.94-2.06-.94-.94-2.06-.94 2.06-2.06.94zm-11 1L8.5 8.5l.94-2.06 2.06-.94-2.06-.94L8.5 2.5l-.94 2.06-2.06.94zm10 10l.94 2.06.94-2.06 2.06-.94-2.06-.94-.94-2.06-.94 2.06-2.06.94z\"/><path d=\"M17.41 7.96l-1.37-1.37c-.4-.4-.92-.59-1.43-.59-.52 0-1.04.2-1.43.59L10.3 9.45l-7.72 7.72c-.78.78-.78 2.05 0 2.83L4 21.41c.39.39.9.59 1.41.59.51 0 1.02-.2 1.41-.59l7.78-7.78 2.81-2.81c.8-.78.8-2.07 0-2.86zM5.41 20L4 18.59l7.72-7.72 1.47 1.35L5.41 20z\"/>\n",
              "  </svg>\n",
              "      </button>\n",
              "      \n",
              "  <style>\n",
              "    .colab-df-container {\n",
              "      display:flex;\n",
              "      flex-wrap:wrap;\n",
              "      gap: 12px;\n",
              "    }\n",
              "\n",
              "    .colab-df-convert {\n",
              "      background-color: #E8F0FE;\n",
              "      border: none;\n",
              "      border-radius: 50%;\n",
              "      cursor: pointer;\n",
              "      display: none;\n",
              "      fill: #1967D2;\n",
              "      height: 32px;\n",
              "      padding: 0 0 0 0;\n",
              "      width: 32px;\n",
              "    }\n",
              "\n",
              "    .colab-df-convert:hover {\n",
              "      background-color: #E2EBFA;\n",
              "      box-shadow: 0px 1px 2px rgba(60, 64, 67, 0.3), 0px 1px 3px 1px rgba(60, 64, 67, 0.15);\n",
              "      fill: #174EA6;\n",
              "    }\n",
              "\n",
              "    [theme=dark] .colab-df-convert {\n",
              "      background-color: #3B4455;\n",
              "      fill: #D2E3FC;\n",
              "    }\n",
              "\n",
              "    [theme=dark] .colab-df-convert:hover {\n",
              "      background-color: #434B5C;\n",
              "      box-shadow: 0px 1px 3px 1px rgba(0, 0, 0, 0.15);\n",
              "      filter: drop-shadow(0px 1px 2px rgba(0, 0, 0, 0.3));\n",
              "      fill: #FFFFFF;\n",
              "    }\n",
              "  </style>\n",
              "\n",
              "      <script>\n",
              "        const buttonEl =\n",
              "          document.querySelector('#df-b3c4d1cc-4344-4a55-b62c-411ba853ffc4 button.colab-df-convert');\n",
              "        buttonEl.style.display =\n",
              "          google.colab.kernel.accessAllowed ? 'block' : 'none';\n",
              "\n",
              "        async function convertToInteractive(key) {\n",
              "          const element = document.querySelector('#df-b3c4d1cc-4344-4a55-b62c-411ba853ffc4');\n",
              "          const dataTable =\n",
              "            await google.colab.kernel.invokeFunction('convertToInteractive',\n",
              "                                                     [key], {});\n",
              "          if (!dataTable) return;\n",
              "\n",
              "          const docLinkHtml = 'Like what you see? Visit the ' +\n",
              "            '<a target=\"_blank\" href=https://colab.research.google.com/notebooks/data_table.ipynb>data table notebook</a>'\n",
              "            + ' to learn more about interactive tables.';\n",
              "          element.innerHTML = '';\n",
              "          dataTable['output_type'] = 'display_data';\n",
              "          await google.colab.output.renderOutput(dataTable, element);\n",
              "          const docLink = document.createElement('div');\n",
              "          docLink.innerHTML = docLinkHtml;\n",
              "          element.appendChild(docLink);\n",
              "        }\n",
              "      </script>\n",
              "    </div>\n",
              "  </div>\n",
              "  "
            ]
          },
          "metadata": {},
          "execution_count": 62
        }
      ]
    },
    {
      "cell_type": "code",
      "source": [
        "ger_dim_shp['yurt'].value_counts().plot(kind = 'bar')"
      ],
      "metadata": {
        "colab": {
          "base_uri": "https://localhost:8080/",
          "height": 280
        },
        "id": "eYAUTE8Gfft1",
        "outputId": "1ca04d46-c557-4363-b5d3-5e4b2a7b2d63"
      },
      "execution_count": null,
      "outputs": [
        {
          "output_type": "execute_result",
          "data": {
            "text/plain": [
              "<matplotlib.axes._subplots.AxesSubplot at 0x7f7b42cfd3d0>"
            ]
          },
          "metadata": {},
          "execution_count": 60
        },
        {
          "output_type": "display_data",
          "data": {
            "text/plain": [
              "<Figure size 432x288 with 1 Axes>"
            ],
            "image/png": "[encoded data removed]"
          },
          "metadata": {
            "needs_background": "light"
          }
        }
      ]
    },
    {
      "cell_type": "code",
      "source": [
        "yurt = ger_dim_shp.loc[ger_dim_shp['yurt'] == 1]\n",
        "nonyurt = ger_dim_shp.loc[ger_dim_shp['yurt'] == 0].sample(40000)\n",
        "class_bal = pd.concat([yurt,nonyurt])\n",
        "class_bal['yurt'].value_counts().plot(kind = 'bar')"
      ],
      "metadata": {
        "colab": {
          "base_uri": "https://localhost:8080/",
          "height": 280
        },
        "id": "XC7pD12esiPY",
        "outputId": "27ecf913-cf15-4caf-a257-e297b9817a1b"
      },
      "execution_count": null,
      "outputs": [
        {
          "output_type": "execute_result",
          "data": {
            "text/plain": [
              "<matplotlib.axes._subplots.AxesSubplot at 0x7f7b3f069650>"
            ]
          },
          "metadata": {},
          "execution_count": 89
        },
        {
          "output_type": "display_data",
          "data": {
            "text/plain": [
              "<Figure size 432x288 with 1 Axes>"
            ],
            "image/png": "[encoded data removed]"
          },
          "metadata": {
            "needs_background": "light"
          }
        }
      ]
    },
    {
      "cell_type": "code",
      "source": [
        "# y= ger_dim_shp['yurt']\n",
        "# X = ger_dim_shp.drop(['yurt', 'squareness', 'duureg', 'area', 'convexity'], axis = 'columns')\n",
        "\n",
        "y = class_bal['yurt'] \n",
        "X = class_bal.drop(['yurt', 'squareness', 'duureg', 'area', 'convexity'], axis = 'columns')"
      ],
      "metadata": {
        "id": "rsKb-znyWL5C"
      },
      "execution_count": null,
      "outputs": []
    },
    {
      "cell_type": "markdown",
      "source": [
        "Experiment 1: Logistic Regression"
      ],
      "metadata": {
        "id": "teXnqY7jX8bf"
      }
    },
    {
      "cell_type": "code",
      "source": [
        "clf = LogisticRegressionCV(cv = 5, n_jobs = -1).fit(X, y)\n",
        "print(roc_auc_score(y, clf.predict_proba(X)[:, 1]))\n",
        "#clf.predict_proba(X)[:, 1]"
      ],
      "metadata": {
        "colab": {
          "base_uri": "https://localhost:8080/"
        },
        "id": "wFFYRkl8Wvbp",
        "outputId": "47bbe4a9-3657-47cf-b982-939314ed2652"
      },
      "execution_count": null,
      "outputs": [
        {
          "output_type": "execute_result",
          "data": {
            "text/plain": [
              "1.0"
            ]
          },
          "metadata": {},
          "execution_count": 70
        }
      ]
    },
    {
      "cell_type": "code",
      "source": [
        "clf.scores_"
      ],
      "metadata": {
        "colab": {
          "base_uri": "https://localhost:8080/"
        },
        "id": "LDj1l0KQbFPl",
        "outputId": "fab93440-4313-4581-c6aa-91ee7a39dcac"
      },
      "execution_count": null,
      "outputs": [
        {
          "output_type": "execute_result",
          "data": {
            "text/plain": [
              "{1: array([[1., 1., 1., 1., 1., 1., 1., 1., 1., 1.],\n",
              "        [1., 1., 1., 1., 1., 1., 1., 1., 1., 1.],\n",
              "        [1., 1., 1., 1., 1., 1., 1., 1., 1., 1.],\n",
              "        [1., 1., 1., 1., 1., 1., 1., 1., 1., 1.],\n",
              "        [1., 1., 1., 1., 1., 1., 1., 1., 1., 1.]])}"
            ]
          },
          "metadata": {},
          "execution_count": 18
        }
      ]
    },
    {
      "cell_type": "code",
      "source": [
        "clf = LogisticRegressionCV(cv = 5, random_state = 0).fit(ger_dim_shp[['new_area', 'area']], y)"
      ],
      "metadata": {
        "id": "BLR-X4a_eBQV"
      },
      "execution_count": null,
      "outputs": []
    },
    {
      "cell_type": "code",
      "source": [
        "clf.score(ger_dim_shp[['new_area', 'area']], y)"
      ],
      "metadata": {
        "colab": {
          "base_uri": "https://localhost:8080/"
        },
        "id": "1ginvr15eYmX",
        "outputId": "c40fdcc1-5faf-4f3e-b88e-f61baa3f1dd1"
      },
      "execution_count": null,
      "outputs": [
        {
          "output_type": "execute_result",
          "data": {
            "text/plain": [
              "1.0"
            ]
          },
          "metadata": {},
          "execution_count": 34
        }
      ]
    },
    {
      "cell_type": "code",
      "source": [
        "import numpy as np\n",
        "\n",
        "X['rand'] = [np.random.random() for k in X.index]\n",
        "X"
      ],
      "metadata": {
        "colab": {
          "base_uri": "https://localhost:8080/",
          "height": 423
        },
        "id": "REmzMPmygB7t",
        "outputId": "7bb5d35b-b922-49f0-93cb-df732dce401a"
      },
      "execution_count": null,
      "outputs": [
        {
          "output_type": "execute_result",
          "data": {
            "text/plain": [
              "        circ_compact      new_area  elongation  perimeter  \\\n",
              "0           0.532362  2.407880e-07    0.834025   0.001978   \n",
              "1           0.502535  2.157171e-07    0.766171   0.001884   \n",
              "2           0.473111  2.096347e-07    0.514535   0.001917   \n",
              "3           0.465759  2.725703e-07    0.481073   0.002212   \n",
              "4           0.306372  4.488263e-08    0.290512   0.001000   \n",
              "...              ...           ...         ...        ...   \n",
              "255257      0.978765  3.405623e+01    0.999124  20.783066   \n",
              "255258      0.978568  2.832507e+01    0.998532  18.953439   \n",
              "255259      0.977603  2.173667e+01    0.995343  16.603582   \n",
              "255260      0.977964  2.036535e+01    0.996374  16.071722   \n",
              "255261      0.978068  3.087615e+01    0.999062  19.788709   \n",
              "\n",
              "        EquivalentRectangularIndex   fractal  longest_axis_length      rand  \n",
              "0                     91283.441782 -1.999982             0.000759  0.276817  \n",
              "1                     91166.322565 -2.042350             0.000739  0.156439  \n",
              "2                     92419.530310 -2.045511             0.000751  0.104776  \n",
              "3                     92375.154082 -1.939112             0.000863  0.113234  \n",
              "4                     92937.052597 -2.796100             0.000432  0.274829  \n",
              "...                            ...       ...                  ...       ...  \n",
              "255257                    1.123178  0.934149             6.656014  0.273849  \n",
              "255258                    1.123201  0.930508             6.070787  0.457181  \n",
              "255259                    1.123197  0.924536             5.320717  0.060644  \n",
              "255260                    1.123167  0.922922             5.149198  0.774071  \n",
              "255261                    1.123192  0.932259             6.339896  0.967245  \n",
              "\n",
              "[255262 rows x 8 columns]"
            ],
            "text/html": [
              "\n",
              "  <div id=\"df-fd8b67e2-d198-44f4-9208-850e883ff6d4\">\n",
              "    <div class=\"colab-df-container\">\n",
              "      <div>\n",
              "<style scoped>\n",
              "    .dataframe tbody tr th:only-of-type {\n",
              "        vertical-align: middle;\n",
              "    }\n",
              "\n",
              "    .dataframe tbody tr th {\n",
              "        vertical-align: top;\n",
              "    }\n",
              "\n",
              "    .dataframe thead th {\n",
              "        text-align: right;\n",
              "    }\n",
              "</style>\n",
              "<table border=\"1\" class=\"dataframe\">\n",
              "  <thead>\n",
              "    <tr style=\"text-align: right;\">\n",
              "      <th></th>\n",
              "      <th>circ_compact</th>\n",
              "      <th>new_area</th>\n",
              "      <th>elongation</th>\n",
              "      <th>perimeter</th>\n",
              "      <th>EquivalentRectangularIndex</th>\n",
              "      <th>fractal</th>\n",
              "      <th>longest_axis_length</th>\n",
              "      <th>rand</th>\n",
              "    </tr>\n",
              "  </thead>\n",
              "  <tbody>\n",
              "    <tr>\n",
              "      <th>0</th>\n",
              "      <td>0.532362</td>\n",
              "      <td>2.407880e-07</td>\n",
              "      <td>0.834025</td>\n",
              "      <td>0.001978</td>\n",
              "      <td>91283.441782</td>\n",
              "      <td>-1.999982</td>\n",
              "      <td>0.000759</td>\n",
              "      <td>0.276817</td>\n",
              "    </tr>\n",
              "    <tr>\n",
              "      <th>1</th>\n",
              "      <td>0.502535</td>\n",
              "      <td>2.157171e-07</td>\n",
              "      <td>0.766171</td>\n",
              "      <td>0.001884</td>\n",
              "      <td>91166.322565</td>\n",
              "      <td>-2.042350</td>\n",
              "      <td>0.000739</td>\n",
              "      <td>0.156439</td>\n",
              "    </tr>\n",
              "    <tr>\n",
              "      <th>2</th>\n",
              "      <td>0.473111</td>\n",
              "      <td>2.096347e-07</td>\n",
              "      <td>0.514535</td>\n",
              "      <td>0.001917</td>\n",
              "      <td>92419.530310</td>\n",
              "      <td>-2.045511</td>\n",
              "      <td>0.000751</td>\n",
              "      <td>0.104776</td>\n",
              "    </tr>\n",
              "    <tr>\n",
              "      <th>3</th>\n",
              "      <td>0.465759</td>\n",
              "      <td>2.725703e-07</td>\n",
              "      <td>0.481073</td>\n",
              "      <td>0.002212</td>\n",
              "      <td>92375.154082</td>\n",
              "      <td>-1.939112</td>\n",
              "      <td>0.000863</td>\n",
              "      <td>0.113234</td>\n",
              "    </tr>\n",
              "    <tr>\n",
              "      <th>4</th>\n",
              "      <td>0.306372</td>\n",
              "      <td>4.488263e-08</td>\n",
              "      <td>0.290512</td>\n",
              "      <td>0.001000</td>\n",
              "      <td>92937.052597</td>\n",
              "      <td>-2.796100</td>\n",
              "      <td>0.000432</td>\n",
              "      <td>0.274829</td>\n",
              "    </tr>\n",
              "    <tr>\n",
              "      <th>...</th>\n",
              "      <td>...</td>\n",
              "      <td>...</td>\n",
              "      <td>...</td>\n",
              "      <td>...</td>\n",
              "      <td>...</td>\n",
              "      <td>...</td>\n",
              "      <td>...</td>\n",
              "      <td>...</td>\n",
              "    </tr>\n",
              "    <tr>\n",
              "      <th>255257</th>\n",
              "      <td>0.978765</td>\n",
              "      <td>3.405623e+01</td>\n",
              "      <td>0.999124</td>\n",
              "      <td>20.783066</td>\n",
              "      <td>1.123178</td>\n",
              "      <td>0.934149</td>\n",
              "      <td>6.656014</td>\n",
              "      <td>0.273849</td>\n",
              "    </tr>\n",
              "    <tr>\n",
              "      <th>255258</th>\n",
              "      <td>0.978568</td>\n",
              "      <td>2.832507e+01</td>\n",
              "      <td>0.998532</td>\n",
              "      <td>18.953439</td>\n",
              "      <td>1.123201</td>\n",
              "      <td>0.930508</td>\n",
              "      <td>6.070787</td>\n",
              "      <td>0.457181</td>\n",
              "    </tr>\n",
              "    <tr>\n",
              "      <th>255259</th>\n",
              "      <td>0.977603</td>\n",
              "      <td>2.173667e+01</td>\n",
              "      <td>0.995343</td>\n",
              "      <td>16.603582</td>\n",
              "      <td>1.123197</td>\n",
              "      <td>0.924536</td>\n",
              "      <td>5.320717</td>\n",
              "      <td>0.060644</td>\n",
              "    </tr>\n",
              "    <tr>\n",
              "      <th>255260</th>\n",
              "      <td>0.977964</td>\n",
              "      <td>2.036535e+01</td>\n",
              "      <td>0.996374</td>\n",
              "      <td>16.071722</td>\n",
              "      <td>1.123167</td>\n",
              "      <td>0.922922</td>\n",
              "      <td>5.149198</td>\n",
              "      <td>0.774071</td>\n",
              "    </tr>\n",
              "    <tr>\n",
              "      <th>255261</th>\n",
              "      <td>0.978068</td>\n",
              "      <td>3.087615e+01</td>\n",
              "      <td>0.999062</td>\n",
              "      <td>19.788709</td>\n",
              "      <td>1.123192</td>\n",
              "      <td>0.932259</td>\n",
              "      <td>6.339896</td>\n",
              "      <td>0.967245</td>\n",
              "    </tr>\n",
              "  </tbody>\n",
              "</table>\n",
              "<p>255262 rows × 8 columns</p>\n",
              "</div>\n",
              "      <button class=\"colab-df-convert\" onclick=\"convertToInteractive('df-fd8b67e2-d198-44f4-9208-850e883ff6d4')\"\n",
              "              title=\"Convert this dataframe to an interactive table.\"\n",
              "              style=\"display:none;\">\n",
              "        \n",
              "  <svg xmlns=\"http://www.w3.org/2000/svg\" height=\"24px\"viewBox=\"0 0 24 24\"\n",
              "       width=\"24px\">\n",
              "    <path d=\"M0 0h24v24H0V0z\" fill=\"none\"/>\n",
              "    <path d=\"M18.56 5.44l.94 2.06.94-2.06 2.06-.94-2.06-.94-.94-2.06-.94 2.06-2.06.94zm-11 1L8.5 8.5l.94-2.06 2.06-.94-2.06-.94L8.5 2.5l-.94 2.06-2.06.94zm10 10l.94 2.06.94-2.06 2.06-.94-2.06-.94-.94-2.06-.94 2.06-2.06.94z\"/><path d=\"M17.41 7.96l-1.37-1.37c-.4-.4-.92-.59-1.43-.59-.52 0-1.04.2-1.43.59L10.3 9.45l-7.72 7.72c-.78.78-.78 2.05 0 2.83L4 21.41c.39.39.9.59 1.41.59.51 0 1.02-.2 1.41-.59l7.78-7.78 2.81-2.81c.8-.78.8-2.07 0-2.86zM5.41 20L4 18.59l7.72-7.72 1.47 1.35L5.41 20z\"/>\n",
              "  </svg>\n",
              "      </button>\n",
              "      \n",
              "  <style>\n",
              "    .colab-df-container {\n",
              "      display:flex;\n",
              "      flex-wrap:wrap;\n",
              "      gap: 12px;\n",
              "    }\n",
              "\n",
              "    .colab-df-convert {\n",
              "      background-color: #E8F0FE;\n",
              "      border: none;\n",
              "      border-radius: 50%;\n",
              "      cursor: pointer;\n",
              "      display: none;\n",
              "      fill: #1967D2;\n",
              "      height: 32px;\n",
              "      padding: 0 0 0 0;\n",
              "      width: 32px;\n",
              "    }\n",
              "\n",
              "    .colab-df-convert:hover {\n",
              "      background-color: #E2EBFA;\n",
              "      box-shadow: 0px 1px 2px rgba(60, 64, 67, 0.3), 0px 1px 3px 1px rgba(60, 64, 67, 0.15);\n",
              "      fill: #174EA6;\n",
              "    }\n",
              "\n",
              "    [theme=dark] .colab-df-convert {\n",
              "      background-color: #3B4455;\n",
              "      fill: #D2E3FC;\n",
              "    }\n",
              "\n",
              "    [theme=dark] .colab-df-convert:hover {\n",
              "      background-color: #434B5C;\n",
              "      box-shadow: 0px 1px 3px 1px rgba(0, 0, 0, 0.15);\n",
              "      filter: drop-shadow(0px 1px 2px rgba(0, 0, 0, 0.3));\n",
              "      fill: #FFFFFF;\n",
              "    }\n",
              "  </style>\n",
              "\n",
              "      <script>\n",
              "        const buttonEl =\n",
              "          document.querySelector('#df-fd8b67e2-d198-44f4-9208-850e883ff6d4 button.colab-df-convert');\n",
              "        buttonEl.style.display =\n",
              "          google.colab.kernel.accessAllowed ? 'block' : 'none';\n",
              "\n",
              "        async function convertToInteractive(key) {\n",
              "          const element = document.querySelector('#df-fd8b67e2-d198-44f4-9208-850e883ff6d4');\n",
              "          const dataTable =\n",
              "            await google.colab.kernel.invokeFunction('convertToInteractive',\n",
              "                                                     [key], {});\n",
              "          if (!dataTable) return;\n",
              "\n",
              "          const docLinkHtml = 'Like what you see? Visit the ' +\n",
              "            '<a target=\"_blank\" href=https://colab.research.google.com/notebooks/data_table.ipynb>data table notebook</a>'\n",
              "            + ' to learn more about interactive tables.';\n",
              "          element.innerHTML = '';\n",
              "          dataTable['output_type'] = 'display_data';\n",
              "          await google.colab.output.renderOutput(dataTable, element);\n",
              "          const docLink = document.createElement('div');\n",
              "          docLink.innerHTML = docLinkHtml;\n",
              "          element.appendChild(docLink);\n",
              "        }\n",
              "      </script>\n",
              "    </div>\n",
              "  </div>\n",
              "  "
            ]
          },
          "metadata": {},
          "execution_count": 55
        }
      ]
    },
    {
      "cell_type": "code",
      "source": [
        "clf = LogisticRegressionCV(n_jobs = -1, cv = 5)\n",
        "clf.fit(X['rand'].values.reshape(-1,1), y)"
      ],
      "metadata": {
        "colab": {
          "base_uri": "https://localhost:8080/"
        },
        "id": "7BPHKeZzh1qx",
        "outputId": "0b0378e6-14c7-46c3-9e5a-1b0630cfeeb1"
      },
      "execution_count": null,
      "outputs": [
        {
          "output_type": "execute_result",
          "data": {
            "text/plain": [
              "LogisticRegressionCV(cv=5, n_jobs=-1)"
            ]
          },
          "metadata": {},
          "execution_count": 46
        }
      ]
    },
    {
      "cell_type": "code",
      "source": [
        "clf.score(X['rand'].values.reshape(-1,1), y)"
      ],
      "metadata": {
        "colab": {
          "base_uri": "https://localhost:8080/"
        },
        "id": "xDnEoenEieYA",
        "outputId": "b68be47c-1960-4512-d789-4ce9d55c822f"
      },
      "execution_count": null,
      "outputs": [
        {
          "output_type": "execute_result",
          "data": {
            "text/plain": [
              "0.8589527622599525"
            ]
          },
          "metadata": {},
          "execution_count": 47
        }
      ]
    },
    {
      "cell_type": "code",
      "source": [
        "clf.scores_"
      ],
      "metadata": {
        "colab": {
          "base_uri": "https://localhost:8080/"
        },
        "id": "mn6KtYodi6wl",
        "outputId": "6dac16f2-3480-458e-e785-2510bbdb1276"
      },
      "execution_count": null,
      "outputs": [
        {
          "output_type": "execute_result",
          "data": {
            "text/plain": [
              "{1: array([[0.8589505 , 0.8589505 , 0.8589505 , 0.8589505 , 0.8589505 ,\n",
              "         0.8589505 , 0.8589505 , 0.8589505 , 0.8589505 , 0.8589505 ],\n",
              "        [0.8589505 , 0.8589505 , 0.8589505 , 0.8589505 , 0.8589505 ,\n",
              "         0.8589505 , 0.8589505 , 0.8589505 , 0.8589505 , 0.8589505 ],\n",
              "        [0.85896733, 0.85896733, 0.85896733, 0.85896733, 0.85896733,\n",
              "         0.85896733, 0.85896733, 0.85896733, 0.85896733, 0.85896733],\n",
              "        [0.85894774, 0.85894774, 0.85894774, 0.85894774, 0.85894774,\n",
              "         0.85894774, 0.85894774, 0.85894774, 0.85894774, 0.85894774],\n",
              "        [0.85894774, 0.85894774, 0.85894774, 0.85894774, 0.85894774,\n",
              "         0.85894774, 0.85894774, 0.85894774, 0.85894774, 0.85894774]])}"
            ]
          },
          "metadata": {},
          "execution_count": 48
        }
      ]
    },
    {
      "cell_type": "code",
      "source": [
        "from sklearn.model_selection import train_test_split\n",
        "\n",
        "X_train, X_test, y_train, y_test = train_test_split(X, y, test_size=0.2, random_state=42)\n",
        "clf = LogisticRegressionCV(cv = 5, n_jobs = -1).fit(X_train, y_train)\n",
        "clf.score(X_test, y_test)"
      ],
      "metadata": {
        "colab": {
          "base_uri": "https://localhost:8080/"
        },
        "id": "Mhxk-gVcjQWi",
        "outputId": "7a03d3d1-f3dc-4052-b36e-7c405ed58dad"
      },
      "execution_count": null,
      "outputs": [
        {
          "output_type": "execute_result",
          "data": {
            "text/plain": [
              "1.0"
            ]
          },
          "metadata": {},
          "execution_count": 84
        }
      ]
    },
    {
      "cell_type": "markdown",
      "source": [
        "Experiment 2: Random Forest"
      ],
      "metadata": {
        "id": "dM1pGPQFb8Mj"
      }
    },
    {
      "cell_type": "code",
      "source": [
        "clf_2 = RandomForestClassifier(n_jobs = -1, oob_score = True)\n",
        "clf_2.fit(X,y)"
      ],
      "metadata": {
        "colab": {
          "base_uri": "https://localhost:8080/"
        },
        "id": "A2tAMDcabmdw",
        "outputId": "3ffdec2d-f8d8-4325-8458-5a08c234b36c"
      },
      "execution_count": null,
      "outputs": [
        {
          "output_type": "execute_result",
          "data": {
            "text/plain": [
              "RandomForestClassifier(n_jobs=-1, oob_score=True)"
            ]
          },
          "metadata": {},
          "execution_count": 85
        }
      ]
    },
    {
      "cell_type": "code",
      "source": [
        "clf_2.score(X,y)"
      ],
      "metadata": {
        "colab": {
          "base_uri": "https://localhost:8080/"
        },
        "id": "Ard1demnudA1",
        "outputId": "feb7e5da-f419-4898-f7b6-6e03929ba994"
      },
      "execution_count": null,
      "outputs": [
        {
          "output_type": "execute_result",
          "data": {
            "text/plain": [
              "1.0"
            ]
          },
          "metadata": {},
          "execution_count": 87
        }
      ]
    },
    {
      "cell_type": "code",
      "source": [
        "roc_auc_score(y, clf_2.predict_proba(X)[:,1])"
      ],
      "metadata": {
        "colab": {
          "base_uri": "https://localhost:8080/"
        },
        "id": "LCrPs57BdTis",
        "outputId": "4b8ddb33-e10a-4108-c27a-456214ba44a4"
      },
      "execution_count": null,
      "outputs": [
        {
          "output_type": "execute_result",
          "data": {
            "text/plain": [
              "1.0"
            ]
          },
          "metadata": {},
          "execution_count": 86
        }
      ]
    },
    {
      "cell_type": "code",
      "source": [
        "clf_2.feature_importances_"
      ],
      "metadata": {
        "colab": {
          "base_uri": "https://localhost:8080/"
        },
        "id": "rR8fhfICdYx0",
        "outputId": "c42b472f-40e6-413f-8592-9a958cd443d4"
      },
      "execution_count": null,
      "outputs": [
        {
          "output_type": "execute_result",
          "data": {
            "text/plain": [
              "array([0.03974842, 0.21012159, 0.        , 0.18005738, 0.26007682,\n",
              "       0.10999472, 0.20000106])"
            ]
          },
          "metadata": {},
          "execution_count": 88
        }
      ]
    },
    {
      "cell_type": "code",
      "source": [
        "clf_2.feature_names_in_"
      ],
      "metadata": {
        "colab": {
          "base_uri": "https://localhost:8080/"
        },
        "id": "7Hlt5npadd0o",
        "outputId": "1a49f8a5-d5ce-4bec-c6b2-fbb168f8888b"
      },
      "execution_count": null,
      "outputs": [
        {
          "output_type": "execute_result",
          "data": {
            "text/plain": [
              "array(['circ_compact', 'new_area', 'convexity', 'elongation', 'perimeter',\n",
              "       'EquivalentRectangularIndex', 'fractal', 'longest_axis_length'],\n",
              "      dtype=object)"
            ]
          },
          "metadata": {},
          "execution_count": 24
        }
      ]
    },
    {
      "cell_type": "code",
      "source": [
        "pd.DataFrame({'Features': clf_2.feature_names_in_, 'Feature Importances':clf_2.feature_importances_ })"
      ],
      "metadata": {
        "colab": {
          "base_uri": "https://localhost:8080/",
          "height": 269
        },
        "id": "Chpw4pBXdgEO",
        "outputId": "196acbe5-4109-4d48-d223-e0652b1dd808"
      },
      "execution_count": null,
      "outputs": [
        {
          "output_type": "execute_result",
          "data": {
            "text/plain": [
              "                     Features  Feature Importances\n",
              "0                circ_compact             0.039748\n",
              "1                    new_area             0.210122\n",
              "2                  elongation             0.000000\n",
              "3                   perimeter             0.180057\n",
              "4  EquivalentRectangularIndex             0.260077\n",
              "5                     fractal             0.109995\n",
              "6         longest_axis_length             0.200001"
            ],
            "text/html": [
              "\n",
              "  <div id=\"df-85b7db5e-1a4d-4371-8276-7d976ddfca2b\">\n",
              "    <div class=\"colab-df-container\">\n",
              "      <div>\n",
              "<style scoped>\n",
              "    .dataframe tbody tr th:only-of-type {\n",
              "        vertical-align: middle;\n",
              "    }\n",
              "\n",
              "    .dataframe tbody tr th {\n",
              "        vertical-align: top;\n",
              "    }\n",
              "\n",
              "    .dataframe thead th {\n",
              "        text-align: right;\n",
              "    }\n",
              "</style>\n",
              "<table border=\"1\" class=\"dataframe\">\n",
              "  <thead>\n",
              "    <tr style=\"text-align: right;\">\n",
              "      <th></th>\n",
              "      <th>Features</th>\n",
              "      <th>Feature Importances</th>\n",
              "    </tr>\n",
              "  </thead>\n",
              "  <tbody>\n",
              "    <tr>\n",
              "      <th>0</th>\n",
              "      <td>circ_compact</td>\n",
              "      <td>0.039748</td>\n",
              "    </tr>\n",
              "    <tr>\n",
              "      <th>1</th>\n",
              "      <td>new_area</td>\n",
              "      <td>0.210122</td>\n",
              "    </tr>\n",
              "    <tr>\n",
              "      <th>2</th>\n",
              "      <td>elongation</td>\n",
              "      <td>0.000000</td>\n",
              "    </tr>\n",
              "    <tr>\n",
              "      <th>3</th>\n",
              "      <td>perimeter</td>\n",
              "      <td>0.180057</td>\n",
              "    </tr>\n",
              "    <tr>\n",
              "      <th>4</th>\n",
              "      <td>EquivalentRectangularIndex</td>\n",
              "      <td>0.260077</td>\n",
              "    </tr>\n",
              "    <tr>\n",
              "      <th>5</th>\n",
              "      <td>fractal</td>\n",
              "      <td>0.109995</td>\n",
              "    </tr>\n",
              "    <tr>\n",
              "      <th>6</th>\n",
              "      <td>longest_axis_length</td>\n",
              "      <td>0.200001</td>\n",
              "    </tr>\n",
              "  </tbody>\n",
              "</table>\n",
              "</div>\n",
              "      <button class=\"colab-df-convert\" onclick=\"convertToInteractive('df-85b7db5e-1a4d-4371-8276-7d976ddfca2b')\"\n",
              "              title=\"Convert this dataframe to an interactive table.\"\n",
              "              style=\"display:none;\">\n",
              "        \n",
              "  <svg xmlns=\"http://www.w3.org/2000/svg\" height=\"24px\"viewBox=\"0 0 24 24\"\n",
              "       width=\"24px\">\n",
              "    <path d=\"M0 0h24v24H0V0z\" fill=\"none\"/>\n",
              "    <path d=\"M18.56 5.44l.94 2.06.94-2.06 2.06-.94-2.06-.94-.94-2.06-.94 2.06-2.06.94zm-11 1L8.5 8.5l.94-2.06 2.06-.94-2.06-.94L8.5 2.5l-.94 2.06-2.06.94zm10 10l.94 2.06.94-2.06 2.06-.94-2.06-.94-.94-2.06-.94 2.06-2.06.94z\"/><path d=\"M17.41 7.96l-1.37-1.37c-.4-.4-.92-.59-1.43-.59-.52 0-1.04.2-1.43.59L10.3 9.45l-7.72 7.72c-.78.78-.78 2.05 0 2.83L4 21.41c.39.39.9.59 1.41.59.51 0 1.02-.2 1.41-.59l7.78-7.78 2.81-2.81c.8-.78.8-2.07 0-2.86zM5.41 20L4 18.59l7.72-7.72 1.47 1.35L5.41 20z\"/>\n",
              "  </svg>\n",
              "      </button>\n",
              "      \n",
              "  <style>\n",
              "    .colab-df-container {\n",
              "      display:flex;\n",
              "      flex-wrap:wrap;\n",
              "      gap: 12px;\n",
              "    }\n",
              "\n",
              "    .colab-df-convert {\n",
              "      background-color: #E8F0FE;\n",
              "      border: none;\n",
              "      border-radius: 50%;\n",
              "      cursor: pointer;\n",
              "      display: none;\n",
              "      fill: #1967D2;\n",
              "      height: 32px;\n",
              "      padding: 0 0 0 0;\n",
              "      width: 32px;\n",
              "    }\n",
              "\n",
              "    .colab-df-convert:hover {\n",
              "      background-color: #E2EBFA;\n",
              "      box-shadow: 0px 1px 2px rgba(60, 64, 67, 0.3), 0px 1px 3px 1px rgba(60, 64, 67, 0.15);\n",
              "      fill: #174EA6;\n",
              "    }\n",
              "\n",
              "    [theme=dark] .colab-df-convert {\n",
              "      background-color: #3B4455;\n",
              "      fill: #D2E3FC;\n",
              "    }\n",
              "\n",
              "    [theme=dark] .colab-df-convert:hover {\n",
              "      background-color: #434B5C;\n",
              "      box-shadow: 0px 1px 3px 1px rgba(0, 0, 0, 0.15);\n",
              "      filter: drop-shadow(0px 1px 2px rgba(0, 0, 0, 0.3));\n",
              "      fill: #FFFFFF;\n",
              "    }\n",
              "  </style>\n",
              "\n",
              "      <script>\n",
              "        const buttonEl =\n",
              "          document.querySelector('#df-85b7db5e-1a4d-4371-8276-7d976ddfca2b button.colab-df-convert');\n",
              "        buttonEl.style.display =\n",
              "          google.colab.kernel.accessAllowed ? 'block' : 'none';\n",
              "\n",
              "        async function convertToInteractive(key) {\n",
              "          const element = document.querySelector('#df-85b7db5e-1a4d-4371-8276-7d976ddfca2b');\n",
              "          const dataTable =\n",
              "            await google.colab.kernel.invokeFunction('convertToInteractive',\n",
              "                                                     [key], {});\n",
              "          if (!dataTable) return;\n",
              "\n",
              "          const docLinkHtml = 'Like what you see? Visit the ' +\n",
              "            '<a target=\"_blank\" href=https://colab.research.google.com/notebooks/data_table.ipynb>data table notebook</a>'\n",
              "            + ' to learn more about interactive tables.';\n",
              "          element.innerHTML = '';\n",
              "          dataTable['output_type'] = 'display_data';\n",
              "          await google.colab.output.renderOutput(dataTable, element);\n",
              "          const docLink = document.createElement('div');\n",
              "          docLink.innerHTML = docLinkHtml;\n",
              "          element.appendChild(docLink);\n",
              "        }\n",
              "      </script>\n",
              "    </div>\n",
              "  </div>\n",
              "  "
            ]
          },
          "metadata": {},
          "execution_count": 93
        }
      ]
    },
    {
      "cell_type": "code",
      "source": [
        "from sklearn.tree import DecisionTreeClassifier, plot_tree\n",
        "\n",
        "clf = DecisionTreeClassifier()\n",
        "clf.fit(X,y)\n",
        "\n",
        "plot_tree(clf, feature_names = X.columns, class_names = ['Ger', 'Not Ger'], filled = True)\n"
      ],
      "metadata": {
        "colab": {
          "base_uri": "https://localhost:8080/",
          "height": 302
        },
        "id": "xY2Gb_ZBwuLm",
        "outputId": "adaf2570-a513-481e-b886-8e51678198c6"
      },
      "execution_count": null,
      "outputs": [
        {
          "output_type": "execute_result",
          "data": {
            "text/plain": [
              "[Text(0.5, 0.75, 'longest_axis_length <= 0.589\\ngini = 0.499\\nsamples = 76004\\nvalue = [40000, 36004]\\nclass = Ger'),\n",
              " Text(0.25, 0.25, 'gini = 0.0\\nsamples = 40000\\nvalue = [40000, 0]\\nclass = Ger'),\n",
              " Text(0.75, 0.25, 'gini = 0.0\\nsamples = 36004\\nvalue = [0, 36004]\\nclass = Not Ger')]"
            ]
          },
          "metadata": {},
          "execution_count": 94
        },
        {
          "output_type": "display_data",
          "data": {
            "text/plain": [
              "<Figure size 432x288 with 1 Axes>"
            ],
            "image/png": "[encoded data removed]"
          },
          "metadata": {
            "needs_background": "light"
          }
        }
      ]
    },
    {
      "cell_type": "markdown",
      "source": [
        "### Final Model Training and Tuning"
      ],
      "metadata": {
        "id": "GvY4dAFiSg9m"
      }
    },
    {
      "cell_type": "code",
      "source": [
        "yurt_balanced = pd.read_csv('/content/drive/MyDrive/final_balanced_yurt.csv', header = 0, index_col = 0)\n",
        "all_bldgs = pd.read_csv('/content/drive/MyDrive/final_full_bld.csv', header = 0, index_col = 0)"
      ],
      "metadata": {
        "id": "au0c7-FaSkV8"
      },
      "execution_count": 4,
      "outputs": []
    },
    {
      "cell_type": "code",
      "source": [
        "yurt_balanced"
      ],
      "metadata": {
        "colab": {
          "base_uri": "https://localhost:8080/",
          "height": 834
        },
        "id": "NMQk-JgpVgAO",
        "outputId": "0128471f-a775-4dff-9dea-22062fd2c579"
      },
      "execution_count": 5,
      "outputs": [
        {
          "output_type": "execute_result",
          "data": {
            "text/plain": [
              "       building            duureg        area  \\\n",
              "0           ger  Songinokhairkhan   19.921489   \n",
              "1           ger  Songinokhairkhan   18.813264   \n",
              "2           ger  Songinokhairkhan   23.761999   \n",
              "3           ger  Songinokhairkhan   22.664676   \n",
              "4           ger  Songinokhairkhan   30.363654   \n",
              "...         ...               ...         ...   \n",
              "240027      yes  Songinokhairkhan   30.390198   \n",
              "1521      house          Baganuur  152.419376   \n",
              "183041      yes  Songinokhairkhan   37.179167   \n",
              "111604      yes        Chingeltei  202.015371   \n",
              "160915      yes           Nalaikh  256.614549   \n",
              "\n",
              "                                                 geometry  yurt    new_area  \\\n",
              "0       MULTIPOLYGON (((629447.992163519 5308071.51880...     1   19.921489   \n",
              "1       MULTIPOLYGON (((626068.1315380472 5311134.5137...     1   18.813264   \n",
              "2       MULTIPOLYGON (((636193.8176769712 5317044.3977...     1   23.761999   \n",
              "3       MULTIPOLYGON (((637331.5457693868 5308800.3573...     1   22.664676   \n",
              "4       MULTIPOLYGON (((637208.9963009879 5309018.3636...     1   30.363654   \n",
              "...                                                   ...   ...         ...   \n",
              "240027  MULTIPOLYGON (((632083.4677037897 5309112.3828...     0   30.390198   \n",
              "1521    MULTIPOLYGON (((752592.9392267548 5298426.2276...     0  152.419376   \n",
              "183041  MULTIPOLYGON (((632465.1444190345 5309541.5784...     0   37.179167   \n",
              "111604  MULTIPOLYGON (((641041.1893958537 5324591.0610...     0  202.015371   \n",
              "160915  MULTIPOLYGON (((682225.3112014665 5304098.8009...     0  256.614549   \n",
              "\n",
              "        perimeter  longest_axis_length  circ_compact  squareness  convexity  \\\n",
              "0       16.090885             5.211475      0.933922         NaN   1.000000   \n",
              "1       15.636989             5.071900      0.931178         NaN   1.000000   \n",
              "2       17.747201             5.805732      0.897592         NaN   1.000000   \n",
              "3       16.954748             5.431605      0.978145         NaN   1.000000   \n",
              "4       19.624264             6.283401      0.979207         NaN   1.000000   \n",
              "...           ...                  ...           ...         ...        ...   \n",
              "240027  19.632804             6.286914      0.978968         NaN   1.000000   \n",
              "1521    54.432394            19.242388      0.524122         NaN   0.903633   \n",
              "183041  21.715669             6.956082      0.978319         NaN   1.000000   \n",
              "111604  57.223343            20.374502      0.619613         NaN   1.000000   \n",
              "160915  78.127695            30.901692      0.342158         NaN   0.968545   \n",
              "\n",
              "        elongation  EquivalentRectangularIndex   fractal  shared_walls_ratio  \\\n",
              "0         0.950350                    1.109895  0.930516       -2.207904e-16   \n",
              "1         0.946892                    1.109943  0.929164        0.000000e+00   \n",
              "2         0.999111                    1.098681  0.940589        0.000000e+00   \n",
              "3         0.995724                    1.123167  0.925564        0.000000e+00   \n",
              "4         0.996301                    1.123167  0.931941       -1.810368e-16   \n",
              "...            ...                         ...       ...                 ...   \n",
              "240027    0.993978                    1.123172  0.931958        1.809580e-16   \n",
              "1521      0.927323                    0.907887  1.038733        0.000000e+00   \n",
              "183041    0.996222                    1.123149  0.935762        0.000000e+00   \n",
              "111604    0.795711                    1.000018  1.002447        0.000000e+00   \n",
              "160915    0.304954                    0.969044  1.071477        0.000000e+00   \n",
              "\n",
              "           uID  predictions  \n",
              "0            0            1  \n",
              "1            1            1  \n",
              "2            2            1  \n",
              "3            3            1  \n",
              "4            4            1  \n",
              "...        ...          ...  \n",
              "240027  276031            1  \n",
              "1521     37525            1  \n",
              "183041  219045            1  \n",
              "111604  147608            1  \n",
              "160915  196919            1  \n",
              "\n",
              "[76004 rows x 17 columns]"
            ],
            "text/html": [
              "\n",
              "  <div id=\"df-96b35e8d-3bb7-4af3-ad8c-3ef01285784f\">\n",
              "    <div class=\"colab-df-container\">\n",
              "      <div>\n",
              "<style scoped>\n",
              "    .dataframe tbody tr th:only-of-type {\n",
              "        vertical-align: middle;\n",
              "    }\n",
              "\n",
              "    .dataframe tbody tr th {\n",
              "        vertical-align: top;\n",
              "    }\n",
              "\n",
              "    .dataframe thead th {\n",
              "        text-align: right;\n",
              "    }\n",
              "</style>\n",
              "<table border=\"1\" class=\"dataframe\">\n",
              "  <thead>\n",
              "    <tr style=\"text-align: right;\">\n",
              "      <th></th>\n",
              "      <th>building</th>\n",
              "      <th>duureg</th>\n",
              "      <th>area</th>\n",
              "      <th>geometry</th>\n",
              "      <th>yurt</th>\n",
              "      <th>new_area</th>\n",
              "      <th>perimeter</th>\n",
              "      <th>longest_axis_length</th>\n",
              "      <th>circ_compact</th>\n",
              "      <th>squareness</th>\n",
              "      <th>convexity</th>\n",
              "      <th>elongation</th>\n",
              "      <th>EquivalentRectangularIndex</th>\n",
              "      <th>fractal</th>\n",
              "      <th>shared_walls_ratio</th>\n",
              "      <th>uID</th>\n",
              "      <th>predictions</th>\n",
              "    </tr>\n",
              "  </thead>\n",
              "  <tbody>\n",
              "    <tr>\n",
              "      <th>0</th>\n",
              "      <td>ger</td>\n",
              "      <td>Songinokhairkhan</td>\n",
              "      <td>19.921489</td>\n",
              "      <td>MULTIPOLYGON (((629447.992163519 5308071.51880...</td>\n",
              "      <td>1</td>\n",
              "      <td>19.921489</td>\n",
              "      <td>16.090885</td>\n",
              "      <td>5.211475</td>\n",
              "      <td>0.933922</td>\n",
              "      <td>NaN</td>\n",
              "      <td>1.000000</td>\n",
              "      <td>0.950350</td>\n",
              "      <td>1.109895</td>\n",
              "      <td>0.930516</td>\n",
              "      <td>-2.207904e-16</td>\n",
              "      <td>0</td>\n",
              "      <td>1</td>\n",
              "    </tr>\n",
              "    <tr>\n",
              "      <th>1</th>\n",
              "      <td>ger</td>\n",
              "      <td>Songinokhairkhan</td>\n",
              "      <td>18.813264</td>\n",
              "      <td>MULTIPOLYGON (((626068.1315380472 5311134.5137...</td>\n",
              "      <td>1</td>\n",
              "      <td>18.813264</td>\n",
              "      <td>15.636989</td>\n",
              "      <td>5.071900</td>\n",
              "      <td>0.931178</td>\n",
              "      <td>NaN</td>\n",
              "      <td>1.000000</td>\n",
              "      <td>0.946892</td>\n",
              "      <td>1.109943</td>\n",
              "      <td>0.929164</td>\n",
              "      <td>0.000000e+00</td>\n",
              "      <td>1</td>\n",
              "      <td>1</td>\n",
              "    </tr>\n",
              "    <tr>\n",
              "      <th>2</th>\n",
              "      <td>ger</td>\n",
              "      <td>Songinokhairkhan</td>\n",
              "      <td>23.761999</td>\n",
              "      <td>MULTIPOLYGON (((636193.8176769712 5317044.3977...</td>\n",
              "      <td>1</td>\n",
              "      <td>23.761999</td>\n",
              "      <td>17.747201</td>\n",
              "      <td>5.805732</td>\n",
              "      <td>0.897592</td>\n",
              "      <td>NaN</td>\n",
              "      <td>1.000000</td>\n",
              "      <td>0.999111</td>\n",
              "      <td>1.098681</td>\n",
              "      <td>0.940589</td>\n",
              "      <td>0.000000e+00</td>\n",
              "      <td>2</td>\n",
              "      <td>1</td>\n",
              "    </tr>\n",
              "    <tr>\n",
              "      <th>3</th>\n",
              "      <td>ger</td>\n",
              "      <td>Songinokhairkhan</td>\n",
              "      <td>22.664676</td>\n",
              "      <td>MULTIPOLYGON (((637331.5457693868 5308800.3573...</td>\n",
              "      <td>1</td>\n",
              "      <td>22.664676</td>\n",
              "      <td>16.954748</td>\n",
              "      <td>5.431605</td>\n",
              "      <td>0.978145</td>\n",
              "      <td>NaN</td>\n",
              "      <td>1.000000</td>\n",
              "      <td>0.995724</td>\n",
              "      <td>1.123167</td>\n",
              "      <td>0.925564</td>\n",
              "      <td>0.000000e+00</td>\n",
              "      <td>3</td>\n",
              "      <td>1</td>\n",
              "    </tr>\n",
              "    <tr>\n",
              "      <th>4</th>\n",
              "      <td>ger</td>\n",
              "      <td>Songinokhairkhan</td>\n",
              "      <td>30.363654</td>\n",
              "      <td>MULTIPOLYGON (((637208.9963009879 5309018.3636...</td>\n",
              "      <td>1</td>\n",
              "      <td>30.363654</td>\n",
              "      <td>19.624264</td>\n",
              "      <td>6.283401</td>\n",
              "      <td>0.979207</td>\n",
              "      <td>NaN</td>\n",
              "      <td>1.000000</td>\n",
              "      <td>0.996301</td>\n",
              "      <td>1.123167</td>\n",
              "      <td>0.931941</td>\n",
              "      <td>-1.810368e-16</td>\n",
              "      <td>4</td>\n",
              "      <td>1</td>\n",
              "    </tr>\n",
              "    <tr>\n",
              "      <th>...</th>\n",
              "      <td>...</td>\n",
              "      <td>...</td>\n",
              "      <td>...</td>\n",
              "      <td>...</td>\n",
              "      <td>...</td>\n",
              "      <td>...</td>\n",
              "      <td>...</td>\n",
              "      <td>...</td>\n",
              "      <td>...</td>\n",
              "      <td>...</td>\n",
              "      <td>...</td>\n",
              "      <td>...</td>\n",
              "      <td>...</td>\n",
              "      <td>...</td>\n",
              "      <td>...</td>\n",
              "      <td>...</td>\n",
              "      <td>...</td>\n",
              "    </tr>\n",
              "    <tr>\n",
              "      <th>240027</th>\n",
              "      <td>yes</td>\n",
              "      <td>Songinokhairkhan</td>\n",
              "      <td>30.390198</td>\n",
              "      <td>MULTIPOLYGON (((632083.4677037897 5309112.3828...</td>\n",
              "      <td>0</td>\n",
              "      <td>30.390198</td>\n",
              "      <td>19.632804</td>\n",
              "      <td>6.286914</td>\n",
              "      <td>0.978968</td>\n",
              "      <td>NaN</td>\n",
              "      <td>1.000000</td>\n",
              "      <td>0.993978</td>\n",
              "      <td>1.123172</td>\n",
              "      <td>0.931958</td>\n",
              "      <td>1.809580e-16</td>\n",
              "      <td>276031</td>\n",
              "      <td>1</td>\n",
              "    </tr>\n",
              "    <tr>\n",
              "      <th>1521</th>\n",
              "      <td>house</td>\n",
              "      <td>Baganuur</td>\n",
              "      <td>152.419376</td>\n",
              "      <td>MULTIPOLYGON (((752592.9392267548 5298426.2276...</td>\n",
              "      <td>0</td>\n",
              "      <td>152.419376</td>\n",
              "      <td>54.432394</td>\n",
              "      <td>19.242388</td>\n",
              "      <td>0.524122</td>\n",
              "      <td>NaN</td>\n",
              "      <td>0.903633</td>\n",
              "      <td>0.927323</td>\n",
              "      <td>0.907887</td>\n",
              "      <td>1.038733</td>\n",
              "      <td>0.000000e+00</td>\n",
              "      <td>37525</td>\n",
              "      <td>1</td>\n",
              "    </tr>\n",
              "    <tr>\n",
              "      <th>183041</th>\n",
              "      <td>yes</td>\n",
              "      <td>Songinokhairkhan</td>\n",
              "      <td>37.179167</td>\n",
              "      <td>MULTIPOLYGON (((632465.1444190345 5309541.5784...</td>\n",
              "      <td>0</td>\n",
              "      <td>37.179167</td>\n",
              "      <td>21.715669</td>\n",
              "      <td>6.956082</td>\n",
              "      <td>0.978319</td>\n",
              "      <td>NaN</td>\n",
              "      <td>1.000000</td>\n",
              "      <td>0.996222</td>\n",
              "      <td>1.123149</td>\n",
              "      <td>0.935762</td>\n",
              "      <td>0.000000e+00</td>\n",
              "      <td>219045</td>\n",
              "      <td>1</td>\n",
              "    </tr>\n",
              "    <tr>\n",
              "      <th>111604</th>\n",
              "      <td>yes</td>\n",
              "      <td>Chingeltei</td>\n",
              "      <td>202.015371</td>\n",
              "      <td>MULTIPOLYGON (((641041.1893958537 5324591.0610...</td>\n",
              "      <td>0</td>\n",
              "      <td>202.015371</td>\n",
              "      <td>57.223343</td>\n",
              "      <td>20.374502</td>\n",
              "      <td>0.619613</td>\n",
              "      <td>NaN</td>\n",
              "      <td>1.000000</td>\n",
              "      <td>0.795711</td>\n",
              "      <td>1.000018</td>\n",
              "      <td>1.002447</td>\n",
              "      <td>0.000000e+00</td>\n",
              "      <td>147608</td>\n",
              "      <td>1</td>\n",
              "    </tr>\n",
              "    <tr>\n",
              "      <th>160915</th>\n",
              "      <td>yes</td>\n",
              "      <td>Nalaikh</td>\n",
              "      <td>256.614549</td>\n",
              "      <td>MULTIPOLYGON (((682225.3112014665 5304098.8009...</td>\n",
              "      <td>0</td>\n",
              "      <td>256.614549</td>\n",
              "      <td>78.127695</td>\n",
              "      <td>30.901692</td>\n",
              "      <td>0.342158</td>\n",
              "      <td>NaN</td>\n",
              "      <td>0.968545</td>\n",
              "      <td>0.304954</td>\n",
              "      <td>0.969044</td>\n",
              "      <td>1.071477</td>\n",
              "      <td>0.000000e+00</td>\n",
              "      <td>196919</td>\n",
              "      <td>1</td>\n",
              "    </tr>\n",
              "  </tbody>\n",
              "</table>\n",
              "<p>76004 rows × 17 columns</p>\n",
              "</div>\n",
              "      <button class=\"colab-df-convert\" onclick=\"convertToInteractive('df-96b35e8d-3bb7-4af3-ad8c-3ef01285784f')\"\n",
              "              title=\"Convert this dataframe to an interactive table.\"\n",
              "              style=\"display:none;\">\n",
              "        \n",
              "  <svg xmlns=\"http://www.w3.org/2000/svg\" height=\"24px\"viewBox=\"0 0 24 24\"\n",
              "       width=\"24px\">\n",
              "    <path d=\"M0 0h24v24H0V0z\" fill=\"none\"/>\n",
              "    <path d=\"M18.56 5.44l.94 2.06.94-2.06 2.06-.94-2.06-.94-.94-2.06-.94 2.06-2.06.94zm-11 1L8.5 8.5l.94-2.06 2.06-.94-2.06-.94L8.5 2.5l-.94 2.06-2.06.94zm10 10l.94 2.06.94-2.06 2.06-.94-2.06-.94-.94-2.06-.94 2.06-2.06.94z\"/><path d=\"M17.41 7.96l-1.37-1.37c-.4-.4-.92-.59-1.43-.59-.52 0-1.04.2-1.43.59L10.3 9.45l-7.72 7.72c-.78.78-.78 2.05 0 2.83L4 21.41c.39.39.9.59 1.41.59.51 0 1.02-.2 1.41-.59l7.78-7.78 2.81-2.81c.8-.78.8-2.07 0-2.86zM5.41 20L4 18.59l7.72-7.72 1.47 1.35L5.41 20z\"/>\n",
              "  </svg>\n",
              "      </button>\n",
              "      \n",
              "  <style>\n",
              "    .colab-df-container {\n",
              "      display:flex;\n",
              "      flex-wrap:wrap;\n",
              "      gap: 12px;\n",
              "    }\n",
              "\n",
              "    .colab-df-convert {\n",
              "      background-color: #E8F0FE;\n",
              "      border: none;\n",
              "      border-radius: 50%;\n",
              "      cursor: pointer;\n",
              "      display: none;\n",
              "      fill: #1967D2;\n",
              "      height: 32px;\n",
              "      padding: 0 0 0 0;\n",
              "      width: 32px;\n",
              "    }\n",
              "\n",
              "    .colab-df-convert:hover {\n",
              "      background-color: #E2EBFA;\n",
              "      box-shadow: 0px 1px 2px rgba(60, 64, 67, 0.3), 0px 1px 3px 1px rgba(60, 64, 67, 0.15);\n",
              "      fill: #174EA6;\n",
              "    }\n",
              "\n",
              "    [theme=dark] .colab-df-convert {\n",
              "      background-color: #3B4455;\n",
              "      fill: #D2E3FC;\n",
              "    }\n",
              "\n",
              "    [theme=dark] .colab-df-convert:hover {\n",
              "      background-color: #434B5C;\n",
              "      box-shadow: 0px 1px 3px 1px rgba(0, 0, 0, 0.15);\n",
              "      filter: drop-shadow(0px 1px 2px rgba(0, 0, 0, 0.3));\n",
              "      fill: #FFFFFF;\n",
              "    }\n",
              "  </style>\n",
              "\n",
              "      <script>\n",
              "        const buttonEl =\n",
              "          document.querySelector('#df-96b35e8d-3bb7-4af3-ad8c-3ef01285784f button.colab-df-convert');\n",
              "        buttonEl.style.display =\n",
              "          google.colab.kernel.accessAllowed ? 'block' : 'none';\n",
              "\n",
              "        async function convertToInteractive(key) {\n",
              "          const element = document.querySelector('#df-96b35e8d-3bb7-4af3-ad8c-3ef01285784f');\n",
              "          const dataTable =\n",
              "            await google.colab.kernel.invokeFunction('convertToInteractive',\n",
              "                                                     [key], {});\n",
              "          if (!dataTable) return;\n",
              "\n",
              "          const docLinkHtml = 'Like what you see? Visit the ' +\n",
              "            '<a target=\"_blank\" href=https://colab.research.google.com/notebooks/data_table.ipynb>data table notebook</a>'\n",
              "            + ' to learn more about interactive tables.';\n",
              "          element.innerHTML = '';\n",
              "          dataTable['output_type'] = 'display_data';\n",
              "          await google.colab.output.renderOutput(dataTable, element);\n",
              "          const docLink = document.createElement('div');\n",
              "          docLink.innerHTML = docLinkHtml;\n",
              "          element.appendChild(docLink);\n",
              "        }\n",
              "      </script>\n",
              "    </div>\n",
              "  </div>\n",
              "  "
            ]
          },
          "metadata": {},
          "execution_count": 5
        }
      ]
    },
    {
      "cell_type": "code",
      "source": [
        "y = yurt_balanced['yurt'] \n",
        "X = yurt_balanced.drop(['yurt', 'building', 'squareness', 'duureg', 'new_area', 'geometry', 'convexity', 'shared_walls_ratio', 'uID', 'predictions'], axis = 'columns')\n",
        "X"
      ],
      "metadata": {
        "colab": {
          "base_uri": "https://localhost:8080/",
          "height": 467
        },
        "id": "vHGSWZ8ZWWRv",
        "outputId": "1a44b713-c397-4fec-db35-f80f563fecc2"
      },
      "execution_count": 5,
      "outputs": [
        {
          "output_type": "execute_result",
          "data": {
            "text/plain": [
              "              area  perimeter  longest_axis_length  circ_compact  elongation  \\\n",
              "0        19.921489  16.090885             5.211475      0.933922    0.950350   \n",
              "1        18.813264  15.636989             5.071900      0.931178    0.946892   \n",
              "2        23.761999  17.747201             5.805732      0.897592    0.999111   \n",
              "3        22.664676  16.954748             5.431605      0.978145    0.995724   \n",
              "4        30.363654  19.624264             6.283401      0.979207    0.996301   \n",
              "...            ...        ...                  ...           ...         ...   \n",
              "240027   30.390198  19.632804             6.286914      0.978968    0.993978   \n",
              "1521    152.419376  54.432394            19.242388      0.524122    0.927323   \n",
              "183041   37.179167  21.715669             6.956082      0.978319    0.996222   \n",
              "111604  202.015371  57.223343            20.374502      0.619613    0.795711   \n",
              "160915  256.614549  78.127695            30.901692      0.342158    0.304954   \n",
              "\n",
              "        EquivalentRectangularIndex   fractal  \n",
              "0                         1.109895  0.930516  \n",
              "1                         1.109943  0.929164  \n",
              "2                         1.098681  0.940589  \n",
              "3                         1.123167  0.925564  \n",
              "4                         1.123167  0.931941  \n",
              "...                            ...       ...  \n",
              "240027                    1.123172  0.931958  \n",
              "1521                      0.907887  1.038733  \n",
              "183041                    1.123149  0.935762  \n",
              "111604                    1.000018  1.002447  \n",
              "160915                    0.969044  1.071477  \n",
              "\n",
              "[76004 rows x 7 columns]"
            ],
            "text/html": [
              "\n",
              "  <div id=\"df-4eee5760-2fcc-4c89-8015-81dcb85881c5\">\n",
              "    <div class=\"colab-df-container\">\n",
              "      <div>\n",
              "<style scoped>\n",
              "    .dataframe tbody tr th:only-of-type {\n",
              "        vertical-align: middle;\n",
              "    }\n",
              "\n",
              "    .dataframe tbody tr th {\n",
              "        vertical-align: top;\n",
              "    }\n",
              "\n",
              "    .dataframe thead th {\n",
              "        text-align: right;\n",
              "    }\n",
              "</style>\n",
              "<table border=\"1\" class=\"dataframe\">\n",
              "  <thead>\n",
              "    <tr style=\"text-align: right;\">\n",
              "      <th></th>\n",
              "      <th>area</th>\n",
              "      <th>perimeter</th>\n",
              "      <th>longest_axis_length</th>\n",
              "      <th>circ_compact</th>\n",
              "      <th>elongation</th>\n",
              "      <th>EquivalentRectangularIndex</th>\n",
              "      <th>fractal</th>\n",
              "    </tr>\n",
              "  </thead>\n",
              "  <tbody>\n",
              "    <tr>\n",
              "      <th>0</th>\n",
              "      <td>19.921489</td>\n",
              "      <td>16.090885</td>\n",
              "      <td>5.211475</td>\n",
              "      <td>0.933922</td>\n",
              "      <td>0.950350</td>\n",
              "      <td>1.109895</td>\n",
              "      <td>0.930516</td>\n",
              "    </tr>\n",
              "    <tr>\n",
              "      <th>1</th>\n",
              "      <td>18.813264</td>\n",
              "      <td>15.636989</td>\n",
              "      <td>5.071900</td>\n",
              "      <td>0.931178</td>\n",
              "      <td>0.946892</td>\n",
              "      <td>1.109943</td>\n",
              "      <td>0.929164</td>\n",
              "    </tr>\n",
              "    <tr>\n",
              "      <th>2</th>\n",
              "      <td>23.761999</td>\n",
              "      <td>17.747201</td>\n",
              "      <td>5.805732</td>\n",
              "      <td>0.897592</td>\n",
              "      <td>0.999111</td>\n",
              "      <td>1.098681</td>\n",
              "      <td>0.940589</td>\n",
              "    </tr>\n",
              "    <tr>\n",
              "      <th>3</th>\n",
              "      <td>22.664676</td>\n",
              "      <td>16.954748</td>\n",
              "      <td>5.431605</td>\n",
              "      <td>0.978145</td>\n",
              "      <td>0.995724</td>\n",
              "      <td>1.123167</td>\n",
              "      <td>0.925564</td>\n",
              "    </tr>\n",
              "    <tr>\n",
              "      <th>4</th>\n",
              "      <td>30.363654</td>\n",
              "      <td>19.624264</td>\n",
              "      <td>6.283401</td>\n",
              "      <td>0.979207</td>\n",
              "      <td>0.996301</td>\n",
              "      <td>1.123167</td>\n",
              "      <td>0.931941</td>\n",
              "    </tr>\n",
              "    <tr>\n",
              "      <th>...</th>\n",
              "      <td>...</td>\n",
              "      <td>...</td>\n",
              "      <td>...</td>\n",
              "      <td>...</td>\n",
              "      <td>...</td>\n",
              "      <td>...</td>\n",
              "      <td>...</td>\n",
              "    </tr>\n",
              "    <tr>\n",
              "      <th>240027</th>\n",
              "      <td>30.390198</td>\n",
              "      <td>19.632804</td>\n",
              "      <td>6.286914</td>\n",
              "      <td>0.978968</td>\n",
              "      <td>0.993978</td>\n",
              "      <td>1.123172</td>\n",
              "      <td>0.931958</td>\n",
              "    </tr>\n",
              "    <tr>\n",
              "      <th>1521</th>\n",
              "      <td>152.419376</td>\n",
              "      <td>54.432394</td>\n",
              "      <td>19.242388</td>\n",
              "      <td>0.524122</td>\n",
              "      <td>0.927323</td>\n",
              "      <td>0.907887</td>\n",
              "      <td>1.038733</td>\n",
              "    </tr>\n",
              "    <tr>\n",
              "      <th>183041</th>\n",
              "      <td>37.179167</td>\n",
              "      <td>21.715669</td>\n",
              "      <td>6.956082</td>\n",
              "      <td>0.978319</td>\n",
              "      <td>0.996222</td>\n",
              "      <td>1.123149</td>\n",
              "      <td>0.935762</td>\n",
              "    </tr>\n",
              "    <tr>\n",
              "      <th>111604</th>\n",
              "      <td>202.015371</td>\n",
              "      <td>57.223343</td>\n",
              "      <td>20.374502</td>\n",
              "      <td>0.619613</td>\n",
              "      <td>0.795711</td>\n",
              "      <td>1.000018</td>\n",
              "      <td>1.002447</td>\n",
              "    </tr>\n",
              "    <tr>\n",
              "      <th>160915</th>\n",
              "      <td>256.614549</td>\n",
              "      <td>78.127695</td>\n",
              "      <td>30.901692</td>\n",
              "      <td>0.342158</td>\n",
              "      <td>0.304954</td>\n",
              "      <td>0.969044</td>\n",
              "      <td>1.071477</td>\n",
              "    </tr>\n",
              "  </tbody>\n",
              "</table>\n",
              "<p>76004 rows × 7 columns</p>\n",
              "</div>\n",
              "      <button class=\"colab-df-convert\" onclick=\"convertToInteractive('df-4eee5760-2fcc-4c89-8015-81dcb85881c5')\"\n",
              "              title=\"Convert this dataframe to an interactive table.\"\n",
              "              style=\"display:none;\">\n",
              "        \n",
              "  <svg xmlns=\"http://www.w3.org/2000/svg\" height=\"24px\"viewBox=\"0 0 24 24\"\n",
              "       width=\"24px\">\n",
              "    <path d=\"M0 0h24v24H0V0z\" fill=\"none\"/>\n",
              "    <path d=\"M18.56 5.44l.94 2.06.94-2.06 2.06-.94-2.06-.94-.94-2.06-.94 2.06-2.06.94zm-11 1L8.5 8.5l.94-2.06 2.06-.94-2.06-.94L8.5 2.5l-.94 2.06-2.06.94zm10 10l.94 2.06.94-2.06 2.06-.94-2.06-.94-.94-2.06-.94 2.06-2.06.94z\"/><path d=\"M17.41 7.96l-1.37-1.37c-.4-.4-.92-.59-1.43-.59-.52 0-1.04.2-1.43.59L10.3 9.45l-7.72 7.72c-.78.78-.78 2.05 0 2.83L4 21.41c.39.39.9.59 1.41.59.51 0 1.02-.2 1.41-.59l7.78-7.78 2.81-2.81c.8-.78.8-2.07 0-2.86zM5.41 20L4 18.59l7.72-7.72 1.47 1.35L5.41 20z\"/>\n",
              "  </svg>\n",
              "      </button>\n",
              "      \n",
              "  <style>\n",
              "    .colab-df-container {\n",
              "      display:flex;\n",
              "      flex-wrap:wrap;\n",
              "      gap: 12px;\n",
              "    }\n",
              "\n",
              "    .colab-df-convert {\n",
              "      background-color: #E8F0FE;\n",
              "      border: none;\n",
              "      border-radius: 50%;\n",
              "      cursor: pointer;\n",
              "      display: none;\n",
              "      fill: #1967D2;\n",
              "      height: 32px;\n",
              "      padding: 0 0 0 0;\n",
              "      width: 32px;\n",
              "    }\n",
              "\n",
              "    .colab-df-convert:hover {\n",
              "      background-color: #E2EBFA;\n",
              "      box-shadow: 0px 1px 2px rgba(60, 64, 67, 0.3), 0px 1px 3px 1px rgba(60, 64, 67, 0.15);\n",
              "      fill: #174EA6;\n",
              "    }\n",
              "\n",
              "    [theme=dark] .colab-df-convert {\n",
              "      background-color: #3B4455;\n",
              "      fill: #D2E3FC;\n",
              "    }\n",
              "\n",
              "    [theme=dark] .colab-df-convert:hover {\n",
              "      background-color: #434B5C;\n",
              "      box-shadow: 0px 1px 3px 1px rgba(0, 0, 0, 0.15);\n",
              "      filter: drop-shadow(0px 1px 2px rgba(0, 0, 0, 0.3));\n",
              "      fill: #FFFFFF;\n",
              "    }\n",
              "  </style>\n",
              "\n",
              "      <script>\n",
              "        const buttonEl =\n",
              "          document.querySelector('#df-4eee5760-2fcc-4c89-8015-81dcb85881c5 button.colab-df-convert');\n",
              "        buttonEl.style.display =\n",
              "          google.colab.kernel.accessAllowed ? 'block' : 'none';\n",
              "\n",
              "        async function convertToInteractive(key) {\n",
              "          const element = document.querySelector('#df-4eee5760-2fcc-4c89-8015-81dcb85881c5');\n",
              "          const dataTable =\n",
              "            await google.colab.kernel.invokeFunction('convertToInteractive',\n",
              "                                                     [key], {});\n",
              "          if (!dataTable) return;\n",
              "\n",
              "          const docLinkHtml = 'Like what you see? Visit the ' +\n",
              "            '<a target=\"_blank\" href=https://colab.research.google.com/notebooks/data_table.ipynb>data table notebook</a>'\n",
              "            + ' to learn more about interactive tables.';\n",
              "          element.innerHTML = '';\n",
              "          dataTable['output_type'] = 'display_data';\n",
              "          await google.colab.output.renderOutput(dataTable, element);\n",
              "          const docLink = document.createElement('div');\n",
              "          docLink.innerHTML = docLinkHtml;\n",
              "          element.appendChild(docLink);\n",
              "        }\n",
              "      </script>\n",
              "    </div>\n",
              "  </div>\n",
              "  "
            ]
          },
          "metadata": {},
          "execution_count": 5
        }
      ]
    },
    {
      "cell_type": "code",
      "source": [
        "acc = []\n",
        "f1 = []\n",
        "roc_auc = []\n",
        "\n",
        "for i in range(10):\n",
        "\n",
        "  X_train, X_test, y_train, y_test = train_test_split(X, y, test_size=0.2, random_state=i)\n",
        "\n",
        "  clf = RandomForestClassifier(n_estimators = 200, random_state=i, n_jobs = -1, oob_score = True)\n",
        "  clf.fit(X_train,y_train)\n",
        "  acc.append(accuracy_score(y_test, clf.predict(X_test)))\n",
        "  f1.append(f1_score(y_test, clf.predict(X_test)))\n",
        "  roc_auc.append(roc_auc_score(y_test, clf.predict_proba(X_test)[:,1]))"
      ],
      "metadata": {
        "id": "AI-NCEXEYiNb"
      },
      "execution_count": null,
      "outputs": []
    },
    {
      "cell_type": "markdown",
      "source": [
        ""
      ],
      "metadata": {
        "id": "EzFspfpZpk8j"
      }
    },
    {
      "cell_type": "code",
      "source": [
        "clf = RandomForestClassifier(n_estimators = 200, n_jobs = -1, oob_score = True)\n",
        "clf.fit(X,y)"
      ],
      "metadata": {
        "colab": {
          "base_uri": "https://localhost:8080/"
        },
        "id": "Wsq0rUkzqMsy",
        "outputId": "9b0d58a5-d739-49f7-b522-aa7a53cb9eff"
      },
      "execution_count": 8,
      "outputs": [
        {
          "output_type": "execute_result",
          "data": {
            "text/plain": [
              "RandomForestClassifier(n_estimators=200, n_jobs=-1, oob_score=True)"
            ]
          },
          "metadata": {},
          "execution_count": 8
        }
      ]
    },
    {
      "cell_type": "code",
      "source": [
        "fig, ax  = plt.subplots(figsize = (25,12))\n",
        "plot_tree(clf.estimators_[1], max_depth = 2, feature_names = X.columns, class_names = ['Ger', 'Not Ger'], filled = True, ax = ax)\n",
        "plt.savefig('decision_tree.png', dpi = 300, bbox_inches = 'tight')"
      ],
      "metadata": {
        "colab": {
          "base_uri": "https://localhost:8080/",
          "height": 436
        },
        "id": "gwV6EsG_qU3q",
        "outputId": "25fe5b2c-5bf9-426b-ae83-06dde0bbc95e"
      },
      "execution_count": 12,
      "outputs": [
        {
          "output_type": "display_data",
          "data": {
            "text/plain": [
              "<Figure size 1800x864 with 1 Axes>"
            ],
            "image/png": "[encoded data removed]"
          },
          "metadata": {
            "needs_background": "light"
          }
        }
      ]
    },
    {
      "cell_type": "code",
      "source": [
        "import numpy as np\n",
        "print('Accuracy:', np.mean(acc))\n",
        "print('F1 Score:', np.mean(f1))\n",
        "print('ROC-AUC:', np.mean(roc_auc))"
      ],
      "metadata": {
        "colab": {
          "base_uri": "https://localhost:8080/"
        },
        "id": "VqEBDFX0eN2o",
        "outputId": "d095f385-704b-4477-f596-61d6cbd76df4"
      },
      "execution_count": 10,
      "outputs": [
        {
          "output_type": "stream",
          "name": "stdout",
          "text": [
            "Accuracy: 0.9194197750148018\n",
            "F1 Score: 0.9178023589504545\n",
            "ROC-AUC: 0.9768628491951136\n"
          ]
        }
      ]
    },
    {
      "cell_type": "code",
      "source": [
        "fig, ax  = plt.subplots(figsize = (25,12))\n",
        "plot_tree(clf.estimators_[5], max_depth = 3, feature_names = X.columns, class_names = ['Ger', 'Not Ger'], filled = True, ax = ax)\n",
        "plt.savefig('decision_tree', dpi = 300, bbox_inches = 'tight')"
      ],
      "metadata": {
        "colab": {
          "base_uri": "https://localhost:8080/",
          "height": 703
        },
        "id": "-LWBwkNUsxBh",
        "outputId": "06c03114-bf47-461d-f0fc-2d9507f3927e"
      },
      "execution_count": 35,
      "outputs": [
        {
          "output_type": "display_data",
          "data": {
            "text/plain": [
              "<Figure size 1800x864 with 1 Axes>"
            ],
            "image/png": "[encoded data removed]"
          },
          "metadata": {
            "needs_background": "light"
          }
        }
      ]
    },
    {
      "cell_type": "code",
      "source": [
        "from sklearn.model_selection import GridSearchCV\n",
        "from sklearn.pipeline import make_pipeline\n",
        "from sklearn.preprocessing import StandardScaler\n",
        "\n",
        "acc = []\n",
        "f1 = []\n",
        "roc_auc = []\n",
        "\n",
        "param_grid = {'linearsvc__C': np.linspace(0.0001, 0.1, 100)}\n",
        "\n",
        "X_train, X_test, y_train, y_test = train_test_split(X, y, test_size=0.2, random_state=i)\n",
        "\n",
        "pipeline = make_pipeline(StandardScaler(), LinearSVC())\n",
        "gcv = GridSearchCV(pipeline, param_grid = param_grid, n_jobs = -1, cv = 5)\n",
        "gcv.fit(X_train,y_train)\n",
        "# acc.append(accuracy_score(y_test, clf.predict(X_test)))\n",
        "# f1.append(f1_score(y_test, clf.predict(X_test)))\n",
        "# roc_auc.append(roc_auc_score(y_test, clf.predict_proba(X_test)[:,1]))"
      ],
      "metadata": {
        "colab": {
          "base_uri": "https://localhost:8080/",
          "height": 395
        },
        "id": "4ptzrLedfTsn",
        "outputId": "a816974e-eb95-4265-feb8-6e290777b436"
      },
      "execution_count": 38,
      "outputs": [
        {
          "output_type": "error",
          "ename": "KeyboardInterrupt",
          "evalue": "ignored",
          "traceback": [
            "\u001b[0;31m---------------------------------------------------------------------------\u001b[0m",
            "\u001b[0;31mKeyboardInterrupt\u001b[0m                         Traceback (most recent call last)",
            "\u001b[0;32m<ipython-input-38-eb57dc3e145c>\u001b[0m in \u001b[0;36m<module>\u001b[0;34m\u001b[0m\n\u001b[1;32m     13\u001b[0m \u001b[0mpipeline\u001b[0m \u001b[0;34m=\u001b[0m \u001b[0mmake_pipeline\u001b[0m\u001b[0;34m(\u001b[0m\u001b[0mStandardScaler\u001b[0m\u001b[0;34m(\u001b[0m\u001b[0;34m)\u001b[0m\u001b[0;34m,\u001b[0m \u001b[0mLinearSVC\u001b[0m\u001b[0;34m(\u001b[0m\u001b[0;34m)\u001b[0m\u001b[0;34m)\u001b[0m\u001b[0;34m\u001b[0m\u001b[0;34m\u001b[0m\u001b[0m\n\u001b[1;32m     14\u001b[0m \u001b[0mgcv\u001b[0m \u001b[0;34m=\u001b[0m \u001b[0mGridSearchCV\u001b[0m\u001b[0;34m(\u001b[0m\u001b[0mpipeline\u001b[0m\u001b[0;34m,\u001b[0m \u001b[0mparam_grid\u001b[0m \u001b[0;34m=\u001b[0m \u001b[0mparam_grid\u001b[0m\u001b[0;34m,\u001b[0m \u001b[0mn_jobs\u001b[0m \u001b[0;34m=\u001b[0m \u001b[0;34m-\u001b[0m\u001b[0;36m1\u001b[0m\u001b[0;34m,\u001b[0m \u001b[0mcv\u001b[0m \u001b[0;34m=\u001b[0m \u001b[0;36m5\u001b[0m\u001b[0;34m)\u001b[0m\u001b[0;34m\u001b[0m\u001b[0;34m\u001b[0m\u001b[0m\n\u001b[0;32m---> 15\u001b[0;31m \u001b[0mgcv\u001b[0m\u001b[0;34m.\u001b[0m\u001b[0mfit\u001b[0m\u001b[0;34m(\u001b[0m\u001b[0mX_train\u001b[0m\u001b[0;34m,\u001b[0m\u001b[0my_train\u001b[0m\u001b[0;34m)\u001b[0m\u001b[0;34m\u001b[0m\u001b[0;34m\u001b[0m\u001b[0m\n\u001b[0m\u001b[1;32m     16\u001b[0m \u001b[0;31m# acc.append(accuracy_score(y_test, clf.predict(X_test)))\u001b[0m\u001b[0;34m\u001b[0m\u001b[0;34m\u001b[0m\u001b[0;34m\u001b[0m\u001b[0m\n\u001b[1;32m     17\u001b[0m \u001b[0;31m# f1.append(f1_score(y_test, clf.predict(X_test)))\u001b[0m\u001b[0;34m\u001b[0m\u001b[0;34m\u001b[0m\u001b[0;34m\u001b[0m\u001b[0m\n",
            "\u001b[0;32m/usr/local/lib/python3.7/dist-packages/sklearn/model_selection/_search.py\u001b[0m in \u001b[0;36mfit\u001b[0;34m(self, X, y, groups, **fit_params)\u001b[0m\n\u001b[1;32m    889\u001b[0m                 \u001b[0;32mreturn\u001b[0m \u001b[0mresults\u001b[0m\u001b[0;34m\u001b[0m\u001b[0;34m\u001b[0m\u001b[0m\n\u001b[1;32m    890\u001b[0m \u001b[0;34m\u001b[0m\u001b[0m\n\u001b[0;32m--> 891\u001b[0;31m             \u001b[0mself\u001b[0m\u001b[0;34m.\u001b[0m\u001b[0m_run_search\u001b[0m\u001b[0;34m(\u001b[0m\u001b[0mevaluate_candidates\u001b[0m\u001b[0;34m)\u001b[0m\u001b[0;34m\u001b[0m\u001b[0;34m\u001b[0m\u001b[0m\n\u001b[0m\u001b[1;32m    892\u001b[0m \u001b[0;34m\u001b[0m\u001b[0m\n\u001b[1;32m    893\u001b[0m             \u001b[0;31m# multimetric is determined here because in the case of a callable\u001b[0m\u001b[0;34m\u001b[0m\u001b[0;34m\u001b[0m\u001b[0;34m\u001b[0m\u001b[0m\n",
            "\u001b[0;32m/usr/local/lib/python3.7/dist-packages/sklearn/model_selection/_search.py\u001b[0m in \u001b[0;36m_run_search\u001b[0;34m(self, evaluate_candidates)\u001b[0m\n\u001b[1;32m   1390\u001b[0m     \u001b[0;32mdef\u001b[0m \u001b[0m_run_search\u001b[0m\u001b[0;34m(\u001b[0m\u001b[0mself\u001b[0m\u001b[0;34m,\u001b[0m \u001b[0mevaluate_candidates\u001b[0m\u001b[0;34m)\u001b[0m\u001b[0;34m:\u001b[0m\u001b[0;34m\u001b[0m\u001b[0;34m\u001b[0m\u001b[0m\n\u001b[1;32m   1391\u001b[0m         \u001b[0;34m\"\"\"Search all candidates in param_grid\"\"\"\u001b[0m\u001b[0;34m\u001b[0m\u001b[0;34m\u001b[0m\u001b[0m\n\u001b[0;32m-> 1392\u001b[0;31m         \u001b[0mevaluate_candidates\u001b[0m\u001b[0;34m(\u001b[0m\u001b[0mParameterGrid\u001b[0m\u001b[0;34m(\u001b[0m\u001b[0mself\u001b[0m\u001b[0;34m.\u001b[0m\u001b[0mparam_grid\u001b[0m\u001b[0;34m)\u001b[0m\u001b[0;34m)\u001b[0m\u001b[0;34m\u001b[0m\u001b[0;34m\u001b[0m\u001b[0m\n\u001b[0m\u001b[1;32m   1393\u001b[0m \u001b[0;34m\u001b[0m\u001b[0m\n\u001b[1;32m   1394\u001b[0m \u001b[0;34m\u001b[0m\u001b[0m\n",
            "\u001b[0;32m/usr/local/lib/python3.7/dist-packages/sklearn/model_selection/_search.py\u001b[0m in \u001b[0;36mevaluate_candidates\u001b[0;34m(candidate_params, cv, more_results)\u001b[0m\n\u001b[1;32m    849\u001b[0m                     )\n\u001b[1;32m    850\u001b[0m                     for (cand_idx, parameters), (split_idx, (train, test)) in product(\n\u001b[0;32m--> 851\u001b[0;31m                         \u001b[0menumerate\u001b[0m\u001b[0;34m(\u001b[0m\u001b[0mcandidate_params\u001b[0m\u001b[0;34m)\u001b[0m\u001b[0;34m,\u001b[0m \u001b[0menumerate\u001b[0m\u001b[0;34m(\u001b[0m\u001b[0mcv\u001b[0m\u001b[0;34m.\u001b[0m\u001b[0msplit\u001b[0m\u001b[0;34m(\u001b[0m\u001b[0mX\u001b[0m\u001b[0;34m,\u001b[0m \u001b[0my\u001b[0m\u001b[0;34m,\u001b[0m \u001b[0mgroups\u001b[0m\u001b[0;34m)\u001b[0m\u001b[0;34m)\u001b[0m\u001b[0;34m\u001b[0m\u001b[0;34m\u001b[0m\u001b[0m\n\u001b[0m\u001b[1;32m    852\u001b[0m                     )\n\u001b[1;32m    853\u001b[0m                 )\n",
            "\u001b[0;32m/usr/local/lib/python3.7/dist-packages/joblib/parallel.py\u001b[0m in \u001b[0;36m__call__\u001b[0;34m(self, iterable)\u001b[0m\n\u001b[1;32m   1054\u001b[0m \u001b[0;34m\u001b[0m\u001b[0m\n\u001b[1;32m   1055\u001b[0m             \u001b[0;32mwith\u001b[0m \u001b[0mself\u001b[0m\u001b[0;34m.\u001b[0m\u001b[0m_backend\u001b[0m\u001b[0;34m.\u001b[0m\u001b[0mretrieval_context\u001b[0m\u001b[0;34m(\u001b[0m\u001b[0;34m)\u001b[0m\u001b[0;34m:\u001b[0m\u001b[0;34m\u001b[0m\u001b[0;34m\u001b[0m\u001b[0m\n\u001b[0;32m-> 1056\u001b[0;31m                 \u001b[0mself\u001b[0m\u001b[0;34m.\u001b[0m\u001b[0mretrieve\u001b[0m\u001b[0;34m(\u001b[0m\u001b[0;34m)\u001b[0m\u001b[0;34m\u001b[0m\u001b[0;34m\u001b[0m\u001b[0m\n\u001b[0m\u001b[1;32m   1057\u001b[0m             \u001b[0;31m# Make sure that we get a last message telling us we are done\u001b[0m\u001b[0;34m\u001b[0m\u001b[0;34m\u001b[0m\u001b[0;34m\u001b[0m\u001b[0m\n\u001b[1;32m   1058\u001b[0m             \u001b[0melapsed_time\u001b[0m \u001b[0;34m=\u001b[0m \u001b[0mtime\u001b[0m\u001b[0;34m.\u001b[0m\u001b[0mtime\u001b[0m\u001b[0;34m(\u001b[0m\u001b[0;34m)\u001b[0m \u001b[0;34m-\u001b[0m \u001b[0mself\u001b[0m\u001b[0;34m.\u001b[0m\u001b[0m_start_time\u001b[0m\u001b[0;34m\u001b[0m\u001b[0;34m\u001b[0m\u001b[0m\n",
            "\u001b[0;32m/usr/local/lib/python3.7/dist-packages/joblib/parallel.py\u001b[0m in \u001b[0;36mretrieve\u001b[0;34m(self)\u001b[0m\n\u001b[1;32m    933\u001b[0m             \u001b[0;32mtry\u001b[0m\u001b[0;34m:\u001b[0m\u001b[0;34m\u001b[0m\u001b[0;34m\u001b[0m\u001b[0m\n\u001b[1;32m    934\u001b[0m                 \u001b[0;32mif\u001b[0m \u001b[0mgetattr\u001b[0m\u001b[0;34m(\u001b[0m\u001b[0mself\u001b[0m\u001b[0;34m.\u001b[0m\u001b[0m_backend\u001b[0m\u001b[0;34m,\u001b[0m \u001b[0;34m'supports_timeout'\u001b[0m\u001b[0;34m,\u001b[0m \u001b[0;32mFalse\u001b[0m\u001b[0;34m)\u001b[0m\u001b[0;34m:\u001b[0m\u001b[0;34m\u001b[0m\u001b[0;34m\u001b[0m\u001b[0m\n\u001b[0;32m--> 935\u001b[0;31m                     \u001b[0mself\u001b[0m\u001b[0;34m.\u001b[0m\u001b[0m_output\u001b[0m\u001b[0;34m.\u001b[0m\u001b[0mextend\u001b[0m\u001b[0;34m(\u001b[0m\u001b[0mjob\u001b[0m\u001b[0;34m.\u001b[0m\u001b[0mget\u001b[0m\u001b[0;34m(\u001b[0m\u001b[0mtimeout\u001b[0m\u001b[0;34m=\u001b[0m\u001b[0mself\u001b[0m\u001b[0;34m.\u001b[0m\u001b[0mtimeout\u001b[0m\u001b[0;34m)\u001b[0m\u001b[0;34m)\u001b[0m\u001b[0;34m\u001b[0m\u001b[0;34m\u001b[0m\u001b[0m\n\u001b[0m\u001b[1;32m    936\u001b[0m                 \u001b[0;32melse\u001b[0m\u001b[0;34m:\u001b[0m\u001b[0;34m\u001b[0m\u001b[0;34m\u001b[0m\u001b[0m\n\u001b[1;32m    937\u001b[0m                     \u001b[0mself\u001b[0m\u001b[0;34m.\u001b[0m\u001b[0m_output\u001b[0m\u001b[0;34m.\u001b[0m\u001b[0mextend\u001b[0m\u001b[0;34m(\u001b[0m\u001b[0mjob\u001b[0m\u001b[0;34m.\u001b[0m\u001b[0mget\u001b[0m\u001b[0;34m(\u001b[0m\u001b[0;34m)\u001b[0m\u001b[0;34m)\u001b[0m\u001b[0;34m\u001b[0m\u001b[0;34m\u001b[0m\u001b[0m\n",
            "\u001b[0;32m/usr/local/lib/python3.7/dist-packages/joblib/_parallel_backends.py\u001b[0m in \u001b[0;36mwrap_future_result\u001b[0;34m(future, timeout)\u001b[0m\n\u001b[1;32m    540\u001b[0m         AsyncResults.get from multiprocessing.\"\"\"\n\u001b[1;32m    541\u001b[0m         \u001b[0;32mtry\u001b[0m\u001b[0;34m:\u001b[0m\u001b[0;34m\u001b[0m\u001b[0;34m\u001b[0m\u001b[0m\n\u001b[0;32m--> 542\u001b[0;31m             \u001b[0;32mreturn\u001b[0m \u001b[0mfuture\u001b[0m\u001b[0;34m.\u001b[0m\u001b[0mresult\u001b[0m\u001b[0;34m(\u001b[0m\u001b[0mtimeout\u001b[0m\u001b[0;34m=\u001b[0m\u001b[0mtimeout\u001b[0m\u001b[0;34m)\u001b[0m\u001b[0;34m\u001b[0m\u001b[0;34m\u001b[0m\u001b[0m\n\u001b[0m\u001b[1;32m    543\u001b[0m         \u001b[0;32mexcept\u001b[0m \u001b[0mCfTimeoutError\u001b[0m \u001b[0;32mas\u001b[0m \u001b[0me\u001b[0m\u001b[0;34m:\u001b[0m\u001b[0;34m\u001b[0m\u001b[0;34m\u001b[0m\u001b[0m\n\u001b[1;32m    544\u001b[0m             \u001b[0;32mraise\u001b[0m \u001b[0mTimeoutError\u001b[0m \u001b[0;32mfrom\u001b[0m \u001b[0me\u001b[0m\u001b[0;34m\u001b[0m\u001b[0;34m\u001b[0m\u001b[0m\n",
            "\u001b[0;32m/usr/lib/python3.7/concurrent/futures/_base.py\u001b[0m in \u001b[0;36mresult\u001b[0;34m(self, timeout)\u001b[0m\n\u001b[1;32m    428\u001b[0m                 \u001b[0;32mreturn\u001b[0m \u001b[0mself\u001b[0m\u001b[0;34m.\u001b[0m\u001b[0m__get_result\u001b[0m\u001b[0;34m(\u001b[0m\u001b[0;34m)\u001b[0m\u001b[0;34m\u001b[0m\u001b[0;34m\u001b[0m\u001b[0m\n\u001b[1;32m    429\u001b[0m \u001b[0;34m\u001b[0m\u001b[0m\n\u001b[0;32m--> 430\u001b[0;31m             \u001b[0mself\u001b[0m\u001b[0;34m.\u001b[0m\u001b[0m_condition\u001b[0m\u001b[0;34m.\u001b[0m\u001b[0mwait\u001b[0m\u001b[0;34m(\u001b[0m\u001b[0mtimeout\u001b[0m\u001b[0;34m)\u001b[0m\u001b[0;34m\u001b[0m\u001b[0;34m\u001b[0m\u001b[0m\n\u001b[0m\u001b[1;32m    431\u001b[0m \u001b[0;34m\u001b[0m\u001b[0m\n\u001b[1;32m    432\u001b[0m             \u001b[0;32mif\u001b[0m \u001b[0mself\u001b[0m\u001b[0;34m.\u001b[0m\u001b[0m_state\u001b[0m \u001b[0;32min\u001b[0m \u001b[0;34m[\u001b[0m\u001b[0mCANCELLED\u001b[0m\u001b[0;34m,\u001b[0m \u001b[0mCANCELLED_AND_NOTIFIED\u001b[0m\u001b[0;34m]\u001b[0m\u001b[0;34m:\u001b[0m\u001b[0;34m\u001b[0m\u001b[0;34m\u001b[0m\u001b[0m\n",
            "\u001b[0;32m/usr/lib/python3.7/threading.py\u001b[0m in \u001b[0;36mwait\u001b[0;34m(self, timeout)\u001b[0m\n\u001b[1;32m    294\u001b[0m         \u001b[0;32mtry\u001b[0m\u001b[0;34m:\u001b[0m    \u001b[0;31m# restore state no matter what (e.g., KeyboardInterrupt)\u001b[0m\u001b[0;34m\u001b[0m\u001b[0;34m\u001b[0m\u001b[0m\n\u001b[1;32m    295\u001b[0m             \u001b[0;32mif\u001b[0m \u001b[0mtimeout\u001b[0m \u001b[0;32mis\u001b[0m \u001b[0;32mNone\u001b[0m\u001b[0;34m:\u001b[0m\u001b[0;34m\u001b[0m\u001b[0;34m\u001b[0m\u001b[0m\n\u001b[0;32m--> 296\u001b[0;31m                 \u001b[0mwaiter\u001b[0m\u001b[0;34m.\u001b[0m\u001b[0macquire\u001b[0m\u001b[0;34m(\u001b[0m\u001b[0;34m)\u001b[0m\u001b[0;34m\u001b[0m\u001b[0;34m\u001b[0m\u001b[0m\n\u001b[0m\u001b[1;32m    297\u001b[0m                 \u001b[0mgotit\u001b[0m \u001b[0;34m=\u001b[0m \u001b[0;32mTrue\u001b[0m\u001b[0;34m\u001b[0m\u001b[0;34m\u001b[0m\u001b[0m\n\u001b[1;32m    298\u001b[0m             \u001b[0;32melse\u001b[0m\u001b[0;34m:\u001b[0m\u001b[0;34m\u001b[0m\u001b[0;34m\u001b[0m\u001b[0m\n",
            "\u001b[0;31mKeyboardInterrupt\u001b[0m: "
          ]
        }
      ]
    },
    {
      "cell_type": "code",
      "source": [
        "#gcv.best_params_\n",
        "print(accuracy_score(y_test, gcv.predict(X_test)))\n",
        "print(f1_score(y_test, gcv.predict(X_test)))\n",
        "#print(roc_auc_score(y_test, gcv.predict_proba(X_test)[:,1]))"
      ],
      "metadata": {
        "colab": {
          "base_uri": "https://localhost:8080/",
          "height": 395
        },
        "id": "522l4j2nf3r4",
        "outputId": "d3a185f7-8047-4f93-9d10-83a1f7aac720"
      },
      "execution_count": 37,
      "outputs": [
        {
          "output_type": "error",
          "ename": "NotFittedError",
          "evalue": "ignored",
          "traceback": [
            "\u001b[0;31m---------------------------------------------------------------------------\u001b[0m",
            "\u001b[0;31mNotFittedError\u001b[0m                            Traceback (most recent call last)",
            "\u001b[0;32m<ipython-input-37-09e64fc2f308>\u001b[0m in \u001b[0;36m<module>\u001b[0;34m\u001b[0m\n\u001b[1;32m      1\u001b[0m \u001b[0;31m#gcv.best_params_\u001b[0m\u001b[0;34m\u001b[0m\u001b[0;34m\u001b[0m\u001b[0;34m\u001b[0m\u001b[0m\n\u001b[0;32m----> 2\u001b[0;31m \u001b[0mprint\u001b[0m\u001b[0;34m(\u001b[0m\u001b[0maccuracy_score\u001b[0m\u001b[0;34m(\u001b[0m\u001b[0my_test\u001b[0m\u001b[0;34m,\u001b[0m \u001b[0mgcv\u001b[0m\u001b[0;34m.\u001b[0m\u001b[0mpredict\u001b[0m\u001b[0;34m(\u001b[0m\u001b[0mX_test\u001b[0m\u001b[0;34m)\u001b[0m\u001b[0;34m)\u001b[0m\u001b[0;34m)\u001b[0m\u001b[0;34m\u001b[0m\u001b[0;34m\u001b[0m\u001b[0m\n\u001b[0m\u001b[1;32m      3\u001b[0m \u001b[0mprint\u001b[0m\u001b[0;34m(\u001b[0m\u001b[0mf1_score\u001b[0m\u001b[0;34m(\u001b[0m\u001b[0my_test\u001b[0m\u001b[0;34m,\u001b[0m \u001b[0mgcv\u001b[0m\u001b[0;34m.\u001b[0m\u001b[0mpredict\u001b[0m\u001b[0;34m(\u001b[0m\u001b[0mX_test\u001b[0m\u001b[0;34m)\u001b[0m\u001b[0;34m)\u001b[0m\u001b[0;34m)\u001b[0m\u001b[0;34m\u001b[0m\u001b[0;34m\u001b[0m\u001b[0m\n\u001b[1;32m      4\u001b[0m \u001b[0;31m#print(roc_auc_score(y_test, gcv.predict_proba(X_test)[:,1]))\u001b[0m\u001b[0;34m\u001b[0m\u001b[0;34m\u001b[0m\u001b[0;34m\u001b[0m\u001b[0m\n",
            "\u001b[0;32m/usr/local/lib/python3.7/dist-packages/sklearn/utils/metaestimators.py\u001b[0m in \u001b[0;36m<lambda>\u001b[0;34m(*args, **kwargs)\u001b[0m\n\u001b[1;32m    111\u001b[0m \u001b[0;34m\u001b[0m\u001b[0m\n\u001b[1;32m    112\u001b[0m             \u001b[0;31m# lambda, but not partial, allows help() to work with update_wrapper\u001b[0m\u001b[0;34m\u001b[0m\u001b[0;34m\u001b[0m\u001b[0;34m\u001b[0m\u001b[0m\n\u001b[0;32m--> 113\u001b[0;31m             \u001b[0mout\u001b[0m \u001b[0;34m=\u001b[0m \u001b[0;32mlambda\u001b[0m \u001b[0;34m*\u001b[0m\u001b[0margs\u001b[0m\u001b[0;34m,\u001b[0m \u001b[0;34m**\u001b[0m\u001b[0mkwargs\u001b[0m\u001b[0;34m:\u001b[0m \u001b[0mself\u001b[0m\u001b[0;34m.\u001b[0m\u001b[0mfn\u001b[0m\u001b[0;34m(\u001b[0m\u001b[0mobj\u001b[0m\u001b[0;34m,\u001b[0m \u001b[0;34m*\u001b[0m\u001b[0margs\u001b[0m\u001b[0;34m,\u001b[0m \u001b[0;34m**\u001b[0m\u001b[0mkwargs\u001b[0m\u001b[0;34m)\u001b[0m  \u001b[0;31m# noqa\u001b[0m\u001b[0;34m\u001b[0m\u001b[0;34m\u001b[0m\u001b[0m\n\u001b[0m\u001b[1;32m    114\u001b[0m         \u001b[0;32melse\u001b[0m\u001b[0;34m:\u001b[0m\u001b[0;34m\u001b[0m\u001b[0;34m\u001b[0m\u001b[0m\n\u001b[1;32m    115\u001b[0m \u001b[0;34m\u001b[0m\u001b[0m\n",
            "\u001b[0;32m/usr/local/lib/python3.7/dist-packages/sklearn/model_selection/_search.py\u001b[0m in \u001b[0;36mpredict\u001b[0;34m(self, X)\u001b[0m\n\u001b[1;32m    518\u001b[0m             \u001b[0mthe\u001b[0m \u001b[0mbest\u001b[0m \u001b[0mfound\u001b[0m \u001b[0mparameters\u001b[0m\u001b[0;34m.\u001b[0m\u001b[0;34m\u001b[0m\u001b[0;34m\u001b[0m\u001b[0m\n\u001b[1;32m    519\u001b[0m         \"\"\"\n\u001b[0;32m--> 520\u001b[0;31m         \u001b[0mcheck_is_fitted\u001b[0m\u001b[0;34m(\u001b[0m\u001b[0mself\u001b[0m\u001b[0;34m)\u001b[0m\u001b[0;34m\u001b[0m\u001b[0;34m\u001b[0m\u001b[0m\n\u001b[0m\u001b[1;32m    521\u001b[0m         \u001b[0;32mreturn\u001b[0m \u001b[0mself\u001b[0m\u001b[0;34m.\u001b[0m\u001b[0mbest_estimator_\u001b[0m\u001b[0;34m.\u001b[0m\u001b[0mpredict\u001b[0m\u001b[0;34m(\u001b[0m\u001b[0mX\u001b[0m\u001b[0;34m)\u001b[0m\u001b[0;34m\u001b[0m\u001b[0;34m\u001b[0m\u001b[0m\n\u001b[1;32m    522\u001b[0m \u001b[0;34m\u001b[0m\u001b[0m\n",
            "\u001b[0;32m/usr/local/lib/python3.7/dist-packages/sklearn/utils/validation.py\u001b[0m in \u001b[0;36mcheck_is_fitted\u001b[0;34m(estimator, attributes, msg, all_or_any)\u001b[0m\n\u001b[1;32m   1220\u001b[0m \u001b[0;34m\u001b[0m\u001b[0m\n\u001b[1;32m   1221\u001b[0m     \u001b[0;32mif\u001b[0m \u001b[0;32mnot\u001b[0m \u001b[0mfitted\u001b[0m\u001b[0;34m:\u001b[0m\u001b[0;34m\u001b[0m\u001b[0;34m\u001b[0m\u001b[0m\n\u001b[0;32m-> 1222\u001b[0;31m         \u001b[0;32mraise\u001b[0m \u001b[0mNotFittedError\u001b[0m\u001b[0;34m(\u001b[0m\u001b[0mmsg\u001b[0m \u001b[0;34m%\u001b[0m \u001b[0;34m{\u001b[0m\u001b[0;34m\"name\"\u001b[0m\u001b[0;34m:\u001b[0m \u001b[0mtype\u001b[0m\u001b[0;34m(\u001b[0m\u001b[0mestimator\u001b[0m\u001b[0;34m)\u001b[0m\u001b[0;34m.\u001b[0m\u001b[0m__name__\u001b[0m\u001b[0;34m}\u001b[0m\u001b[0;34m)\u001b[0m\u001b[0;34m\u001b[0m\u001b[0;34m\u001b[0m\u001b[0m\n\u001b[0m\u001b[1;32m   1223\u001b[0m \u001b[0;34m\u001b[0m\u001b[0m\n\u001b[1;32m   1224\u001b[0m \u001b[0;34m\u001b[0m\u001b[0m\n",
            "\u001b[0;31mNotFittedError\u001b[0m: This GridSearchCV instance is not fitted yet. Call 'fit' with appropriate arguments before using this estimator."
          ]
        }
      ]
    },
    {
      "cell_type": "code",
      "source": [
        "acc = []\n",
        "f1 = []\n",
        "roc_auc = []\n",
        "\n",
        "for i in range(100):\n",
        "\n",
        "  X_train, X_test, y_train, y_test = train_test_split(X, y, test_size=0.2, random_state=i)\n",
        "\n",
        "  gnb = GaussianNB()\n",
        "  gnb.fit(X_train,y_train)\n",
        "  acc.append(accuracy_score(y_test, gnb.predict(X_test)))\n",
        "  f1.append(f1_score(y_test, gnb.predict(X_test)))\n",
        "  roc_auc.append(roc_auc_score(y_test, gnb.predict_proba(X_test)[:,1]))\n",
        "\n",
        "print('Accuracy:', np.mean(acc))\n",
        "print('F1 Score:', np.mean(f1))\n",
        "print('ROC-AUC:', np.mean(roc_auc))"
      ],
      "metadata": {
        "colab": {
          "base_uri": "https://localhost:8080/"
        },
        "id": "PacmnEYhHvey",
        "outputId": "d6dd4888-b5ce-4415-ed88-1ddc3b9c6537"
      },
      "execution_count": 41,
      "outputs": [
        {
          "output_type": "stream",
          "name": "stdout",
          "text": [
            "Accuracy: 0.9028938885599632\n",
            "F1 Score: 0.9064309961838639\n",
            "ROC-AUC: 0.9146712119351494\n"
          ]
        }
      ]
    },
    {
      "cell_type": "code",
      "source": [
        "acc = []\n",
        "f1 = []\n",
        "roc_auc = []\n",
        "\n",
        "for i in range(100):\n",
        "\n",
        "  X_train, X_test, y_train, y_test = train_test_split(X, y, test_size=0.2, random_state=i)\n",
        "\n",
        "  gnb = GaussianNB()\n",
        "  gnb.fit(X_train,y_train)\n",
        "  acc.append(accuracy_score(y_test, gnb.predict(X_test)))\n",
        "  f1.append(f1_score(y_test, gnb.predict(X_test)))\n",
        "  roc_auc.append(roc_auc_score(y_test, gnb.predict_proba(X_test)[:,1]))\n",
        "\n",
        "print('Accuracy:', np.mean(acc))\n",
        "print('F1 Score:', np.mean(f1))\n",
        "print('ROC-AUC:', np.mean(roc_auc))"
      ],
      "metadata": {
        "id": "Ru2B5Fn0KCr4"
      },
      "execution_count": null,
      "outputs": []
    },
    {
      "cell_type": "markdown",
      "source": [
        ""
      ],
      "metadata": {
        "id": "Eig1gZHuT2gY"
      }
    }
  ]
}